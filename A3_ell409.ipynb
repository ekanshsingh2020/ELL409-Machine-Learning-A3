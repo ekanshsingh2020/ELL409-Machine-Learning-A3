{
  "cells": [
    {
      "cell_type": "markdown",
      "metadata": {
        "id": "-9wl_ATrCCzx"
      },
      "source": []
    },
    {
      "cell_type": "code",
      "execution_count": null,
      "metadata": {
        "id": "U3KxICZ3cAg_"
      },
      "outputs": [],
      "source": []
    },
    {
      "cell_type": "code",
      "execution_count": 1,
      "metadata": {
        "id": "4KFTScU3DpRB"
      },
      "outputs": [],
      "source": [
        "import numpy as np \n",
        "import matplotlib.pyplot as plt\n",
        "import pandas as pd"
      ]
    },
    {
      "cell_type": "code",
      "execution_count": 2,
      "metadata": {
        "colab": {
          "base_uri": "https://localhost:8080/",
          "height": 442
        },
        "id": "TkP2yIstr3uy",
        "outputId": "14578554-e20d-4f4f-a1c6-875f3dfd9660"
      },
      "outputs": [
        {
          "output_type": "stream",
          "name": "stdout",
          "text": [
            "(1460, 11)\n"
          ]
        },
        {
          "output_type": "execute_result",
          "data": {
            "text/plain": [
              "      LotArea  OverallQual  OverallCond  TotalBsmtSF  FullBath  HalfBath  \\\n",
              "0        8450            7            5          856         2         1   \n",
              "1        9600            6            8         1262         2         0   \n",
              "2       11250            7            5          920         2         1   \n",
              "3        9550            7            5          756         1         0   \n",
              "4       14260            8            5         1145         2         1   \n",
              "...       ...          ...          ...          ...       ...       ...   \n",
              "1455     7917            6            5          953         2         1   \n",
              "1456    13175            6            6         1542         2         0   \n",
              "1457     9042            7            9         1152         2         0   \n",
              "1458     9717            5            6         1078         1         0   \n",
              "1459     9937            5            6         1256         1         1   \n",
              "\n",
              "      BedroomAbvGr  TotRmsAbvGrd  Fireplaces  GarageArea  AboveMedianPrice  \n",
              "0                3             8           0         548                 1  \n",
              "1                3             6           1         460                 1  \n",
              "2                3             6           1         608                 1  \n",
              "3                3             7           1         642                 0  \n",
              "4                4             9           1         836                 1  \n",
              "...            ...           ...         ...         ...               ...  \n",
              "1455             3             7           1         460                 1  \n",
              "1456             3             7           2         500                 1  \n",
              "1457             4             9           2         252                 1  \n",
              "1458             2             5           0         240                 0  \n",
              "1459             3             6           0         276                 0  \n",
              "\n",
              "[1460 rows x 11 columns]"
            ],
            "text/html": [
              "\n",
              "  <div id=\"df-b08274f1-b031-4291-bb51-2c651025844d\">\n",
              "    <div class=\"colab-df-container\">\n",
              "      <div>\n",
              "<style scoped>\n",
              "    .dataframe tbody tr th:only-of-type {\n",
              "        vertical-align: middle;\n",
              "    }\n",
              "\n",
              "    .dataframe tbody tr th {\n",
              "        vertical-align: top;\n",
              "    }\n",
              "\n",
              "    .dataframe thead th {\n",
              "        text-align: right;\n",
              "    }\n",
              "</style>\n",
              "<table border=\"1\" class=\"dataframe\">\n",
              "  <thead>\n",
              "    <tr style=\"text-align: right;\">\n",
              "      <th></th>\n",
              "      <th>LotArea</th>\n",
              "      <th>OverallQual</th>\n",
              "      <th>OverallCond</th>\n",
              "      <th>TotalBsmtSF</th>\n",
              "      <th>FullBath</th>\n",
              "      <th>HalfBath</th>\n",
              "      <th>BedroomAbvGr</th>\n",
              "      <th>TotRmsAbvGrd</th>\n",
              "      <th>Fireplaces</th>\n",
              "      <th>GarageArea</th>\n",
              "      <th>AboveMedianPrice</th>\n",
              "    </tr>\n",
              "  </thead>\n",
              "  <tbody>\n",
              "    <tr>\n",
              "      <th>0</th>\n",
              "      <td>8450</td>\n",
              "      <td>7</td>\n",
              "      <td>5</td>\n",
              "      <td>856</td>\n",
              "      <td>2</td>\n",
              "      <td>1</td>\n",
              "      <td>3</td>\n",
              "      <td>8</td>\n",
              "      <td>0</td>\n",
              "      <td>548</td>\n",
              "      <td>1</td>\n",
              "    </tr>\n",
              "    <tr>\n",
              "      <th>1</th>\n",
              "      <td>9600</td>\n",
              "      <td>6</td>\n",
              "      <td>8</td>\n",
              "      <td>1262</td>\n",
              "      <td>2</td>\n",
              "      <td>0</td>\n",
              "      <td>3</td>\n",
              "      <td>6</td>\n",
              "      <td>1</td>\n",
              "      <td>460</td>\n",
              "      <td>1</td>\n",
              "    </tr>\n",
              "    <tr>\n",
              "      <th>2</th>\n",
              "      <td>11250</td>\n",
              "      <td>7</td>\n",
              "      <td>5</td>\n",
              "      <td>920</td>\n",
              "      <td>2</td>\n",
              "      <td>1</td>\n",
              "      <td>3</td>\n",
              "      <td>6</td>\n",
              "      <td>1</td>\n",
              "      <td>608</td>\n",
              "      <td>1</td>\n",
              "    </tr>\n",
              "    <tr>\n",
              "      <th>3</th>\n",
              "      <td>9550</td>\n",
              "      <td>7</td>\n",
              "      <td>5</td>\n",
              "      <td>756</td>\n",
              "      <td>1</td>\n",
              "      <td>0</td>\n",
              "      <td>3</td>\n",
              "      <td>7</td>\n",
              "      <td>1</td>\n",
              "      <td>642</td>\n",
              "      <td>0</td>\n",
              "    </tr>\n",
              "    <tr>\n",
              "      <th>4</th>\n",
              "      <td>14260</td>\n",
              "      <td>8</td>\n",
              "      <td>5</td>\n",
              "      <td>1145</td>\n",
              "      <td>2</td>\n",
              "      <td>1</td>\n",
              "      <td>4</td>\n",
              "      <td>9</td>\n",
              "      <td>1</td>\n",
              "      <td>836</td>\n",
              "      <td>1</td>\n",
              "    </tr>\n",
              "    <tr>\n",
              "      <th>...</th>\n",
              "      <td>...</td>\n",
              "      <td>...</td>\n",
              "      <td>...</td>\n",
              "      <td>...</td>\n",
              "      <td>...</td>\n",
              "      <td>...</td>\n",
              "      <td>...</td>\n",
              "      <td>...</td>\n",
              "      <td>...</td>\n",
              "      <td>...</td>\n",
              "      <td>...</td>\n",
              "    </tr>\n",
              "    <tr>\n",
              "      <th>1455</th>\n",
              "      <td>7917</td>\n",
              "      <td>6</td>\n",
              "      <td>5</td>\n",
              "      <td>953</td>\n",
              "      <td>2</td>\n",
              "      <td>1</td>\n",
              "      <td>3</td>\n",
              "      <td>7</td>\n",
              "      <td>1</td>\n",
              "      <td>460</td>\n",
              "      <td>1</td>\n",
              "    </tr>\n",
              "    <tr>\n",
              "      <th>1456</th>\n",
              "      <td>13175</td>\n",
              "      <td>6</td>\n",
              "      <td>6</td>\n",
              "      <td>1542</td>\n",
              "      <td>2</td>\n",
              "      <td>0</td>\n",
              "      <td>3</td>\n",
              "      <td>7</td>\n",
              "      <td>2</td>\n",
              "      <td>500</td>\n",
              "      <td>1</td>\n",
              "    </tr>\n",
              "    <tr>\n",
              "      <th>1457</th>\n",
              "      <td>9042</td>\n",
              "      <td>7</td>\n",
              "      <td>9</td>\n",
              "      <td>1152</td>\n",
              "      <td>2</td>\n",
              "      <td>0</td>\n",
              "      <td>4</td>\n",
              "      <td>9</td>\n",
              "      <td>2</td>\n",
              "      <td>252</td>\n",
              "      <td>1</td>\n",
              "    </tr>\n",
              "    <tr>\n",
              "      <th>1458</th>\n",
              "      <td>9717</td>\n",
              "      <td>5</td>\n",
              "      <td>6</td>\n",
              "      <td>1078</td>\n",
              "      <td>1</td>\n",
              "      <td>0</td>\n",
              "      <td>2</td>\n",
              "      <td>5</td>\n",
              "      <td>0</td>\n",
              "      <td>240</td>\n",
              "      <td>0</td>\n",
              "    </tr>\n",
              "    <tr>\n",
              "      <th>1459</th>\n",
              "      <td>9937</td>\n",
              "      <td>5</td>\n",
              "      <td>6</td>\n",
              "      <td>1256</td>\n",
              "      <td>1</td>\n",
              "      <td>1</td>\n",
              "      <td>3</td>\n",
              "      <td>6</td>\n",
              "      <td>0</td>\n",
              "      <td>276</td>\n",
              "      <td>0</td>\n",
              "    </tr>\n",
              "  </tbody>\n",
              "</table>\n",
              "<p>1460 rows × 11 columns</p>\n",
              "</div>\n",
              "      <button class=\"colab-df-convert\" onclick=\"convertToInteractive('df-b08274f1-b031-4291-bb51-2c651025844d')\"\n",
              "              title=\"Convert this dataframe to an interactive table.\"\n",
              "              style=\"display:none;\">\n",
              "        \n",
              "  <svg xmlns=\"http://www.w3.org/2000/svg\" height=\"24px\"viewBox=\"0 0 24 24\"\n",
              "       width=\"24px\">\n",
              "    <path d=\"M0 0h24v24H0V0z\" fill=\"none\"/>\n",
              "    <path d=\"M18.56 5.44l.94 2.06.94-2.06 2.06-.94-2.06-.94-.94-2.06-.94 2.06-2.06.94zm-11 1L8.5 8.5l.94-2.06 2.06-.94-2.06-.94L8.5 2.5l-.94 2.06-2.06.94zm10 10l.94 2.06.94-2.06 2.06-.94-2.06-.94-.94-2.06-.94 2.06-2.06.94z\"/><path d=\"M17.41 7.96l-1.37-1.37c-.4-.4-.92-.59-1.43-.59-.52 0-1.04.2-1.43.59L10.3 9.45l-7.72 7.72c-.78.78-.78 2.05 0 2.83L4 21.41c.39.39.9.59 1.41.59.51 0 1.02-.2 1.41-.59l7.78-7.78 2.81-2.81c.8-.78.8-2.07 0-2.86zM5.41 20L4 18.59l7.72-7.72 1.47 1.35L5.41 20z\"/>\n",
              "  </svg>\n",
              "      </button>\n",
              "      \n",
              "  <style>\n",
              "    .colab-df-container {\n",
              "      display:flex;\n",
              "      flex-wrap:wrap;\n",
              "      gap: 12px;\n",
              "    }\n",
              "\n",
              "    .colab-df-convert {\n",
              "      background-color: #E8F0FE;\n",
              "      border: none;\n",
              "      border-radius: 50%;\n",
              "      cursor: pointer;\n",
              "      display: none;\n",
              "      fill: #1967D2;\n",
              "      height: 32px;\n",
              "      padding: 0 0 0 0;\n",
              "      width: 32px;\n",
              "    }\n",
              "\n",
              "    .colab-df-convert:hover {\n",
              "      background-color: #E2EBFA;\n",
              "      box-shadow: 0px 1px 2px rgba(60, 64, 67, 0.3), 0px 1px 3px 1px rgba(60, 64, 67, 0.15);\n",
              "      fill: #174EA6;\n",
              "    }\n",
              "\n",
              "    [theme=dark] .colab-df-convert {\n",
              "      background-color: #3B4455;\n",
              "      fill: #D2E3FC;\n",
              "    }\n",
              "\n",
              "    [theme=dark] .colab-df-convert:hover {\n",
              "      background-color: #434B5C;\n",
              "      box-shadow: 0px 1px 3px 1px rgba(0, 0, 0, 0.15);\n",
              "      filter: drop-shadow(0px 1px 2px rgba(0, 0, 0, 0.3));\n",
              "      fill: #FFFFFF;\n",
              "    }\n",
              "  </style>\n",
              "\n",
              "      <script>\n",
              "        const buttonEl =\n",
              "          document.querySelector('#df-b08274f1-b031-4291-bb51-2c651025844d button.colab-df-convert');\n",
              "        buttonEl.style.display =\n",
              "          google.colab.kernel.accessAllowed ? 'block' : 'none';\n",
              "\n",
              "        async function convertToInteractive(key) {\n",
              "          const element = document.querySelector('#df-b08274f1-b031-4291-bb51-2c651025844d');\n",
              "          const dataTable =\n",
              "            await google.colab.kernel.invokeFunction('convertToInteractive',\n",
              "                                                     [key], {});\n",
              "          if (!dataTable) return;\n",
              "\n",
              "          const docLinkHtml = 'Like what you see? Visit the ' +\n",
              "            '<a target=\"_blank\" href=https://colab.research.google.com/notebooks/data_table.ipynb>data table notebook</a>'\n",
              "            + ' to learn more about interactive tables.';\n",
              "          element.innerHTML = '';\n",
              "          dataTable['output_type'] = 'display_data';\n",
              "          await google.colab.output.renderOutput(dataTable, element);\n",
              "          const docLink = document.createElement('div');\n",
              "          docLink.innerHTML = docLinkHtml;\n",
              "          element.appendChild(docLink);\n",
              "        }\n",
              "      </script>\n",
              "    </div>\n",
              "  </div>\n",
              "  "
            ]
          },
          "metadata": {},
          "execution_count": 2
        }
      ],
      "source": [
        "filename=\"housepricedata.csv\"\n",
        "df = pd.read_csv(filename)\n",
        "print(df.shape)\n",
        "df"
      ]
    },
    {
      "cell_type": "code",
      "execution_count": 3,
      "metadata": {
        "colab": {
          "base_uri": "https://localhost:8080/"
        },
        "id": "bJ7Fz27UuJ0N",
        "outputId": "477371db-bf7c-4464-b364-63cedec2bf6a"
      },
      "outputs": [
        {
          "output_type": "stream",
          "name": "stdout",
          "text": [
            "count    1460.000000\n",
            "mean        0.613014\n",
            "std         0.644666\n",
            "min         0.000000\n",
            "25%         0.000000\n",
            "50%         1.000000\n",
            "75%         1.000000\n",
            "max         3.000000\n",
            "Name: Fireplaces, dtype: float64\n"
          ]
        }
      ],
      "source": [
        "options = df[\"Fireplaces\"].describe()\n",
        "print(options)"
      ]
    },
    {
      "cell_type": "code",
      "execution_count": 4,
      "metadata": {
        "colab": {
          "base_uri": "https://localhost:8080/"
        },
        "id": "5SPEdg9TvCqW",
        "outputId": "53b363b3-66fc-4b57-8fc6-26343942091d"
      },
      "outputs": [
        {
          "output_type": "stream",
          "name": "stdout",
          "text": [
            "(1460, 11)\n",
            "(1460, 1)\n"
          ]
        }
      ],
      "source": [
        "input_cols2 = list(df.columns)\n",
        "output_cols2 = [\"AboveMedianPrice\"]\n",
        "\n",
        "def dataframe_to_arrays2(dataframe):\n",
        "    dataframe1 = dataframe.copy(deep=True)\n",
        "    inputs_array = dataframe1[input_cols2].to_numpy()\n",
        "    targets_array = dataframe1[output_cols2].to_numpy()\n",
        "    return inputs_array, targets_array\n",
        "\n",
        "X,Y = dataframe_to_arrays2(df)\n",
        "print(X.shape)\n",
        "print(Y.shape)"
      ]
    },
    {
      "cell_type": "code",
      "execution_count": 5,
      "metadata": {
        "colab": {
          "base_uri": "https://localhost:8080/"
        },
        "id": "zTUYXAqNsK87",
        "outputId": "772e5357-72d4-48ba-9a29-021c6bd7bb3e"
      },
      "outputs": [
        {
          "output_type": "stream",
          "name": "stdout",
          "text": [
            "(1460, 1)\n",
            "(1460, 11)\n",
            "(1460, 1)\n",
            "(10, 263) (1, 263) (10, 1051) (1, 1051) (10, 146) (1, 146)\n"
          ]
        }
      ],
      "source": [
        "def normalize_X(data):\n",
        "    mean = np.mean(data, axis=0, keepdims=True)\n",
        "    #print(mean.shape)\n",
        "    std = np.std(data, axis=0, keepdims=True)\n",
        "    normalized_data = (data - mean)/std\n",
        "    return normalized_data\n",
        "print(Y.shape)\n",
        "X=normalize_X(X)\n",
        "shuffler = np.random.permutation(X.shape[0]) #shuffling dataset\n",
        "X = X[shuffler]\n",
        "Y = Y[shuffler]\n",
        "print(X.shape)\n",
        "print(Y.shape)\n",
        "X_test=X[int(X.shape[0]*0.9):,:X.shape[1]-1].T\n",
        "Y_test=Y[int(Y.shape[0]*0.9):,:].T\n",
        "X=X[:int(X.shape[0]*0.9),:]\n",
        "Y=Y[:int(Y.shape[0]*0.9),:]\n",
        "X_train=X[:int(X.shape[0]*0.8),:X.shape[1]-1].T      #0.8 to obtain 80:20 train:test ratio\n",
        "Y_train=Y[:int(Y.shape[0]*0.8),:].T\n",
        "X_val=X[int(X.shape[0]*0.8):,:X.shape[1]-1].T\n",
        "Y_val=Y[int(Y.shape[0]*0.8):,:].T\n",
        "\n",
        "\n",
        "#X=X_train\n",
        "#Y=Y_train\n",
        "print(X_val.shape,Y_val.shape,X_train.shape,Y_train.shape,X_test.shape,Y_test.shape)"
      ]
    },
    {
      "cell_type": "code",
      "execution_count": 6,
      "metadata": {
        "id": "BqW6nZ-lw3i6"
      },
      "outputs": [],
      "source": [
        "def initialize_parameters_deep(layer_dims):\n",
        "    parameters = {}\n",
        "    L = len(layer_dims)    # number of layers in the network\n",
        "\n",
        "    for l in range(1, L):\n",
        "        parameters['W' + str(l)] = np.random.randn(layer_dims[l], layer_dims[l-1]) / np.sqrt(layer_dims[l-1]) #*0.01\n",
        "        parameters['b' + str(l)] = np.zeros((layer_dims[l], 1))\n",
        "        \n",
        "        assert(parameters['W' + str(l)].shape == (layer_dims[l], layer_dims[l-1]))\n",
        "        assert(parameters['b' + str(l)].shape == (layer_dims[l], 1))\n",
        "\n",
        "        \n",
        "    return parameters\n"
      ]
    },
    {
      "cell_type": "code",
      "execution_count": 7,
      "metadata": {
        "id": "llhTqhEoxJzc"
      },
      "outputs": [],
      "source": [
        "def sigmoid(z):\n",
        "    s = 1/(1+np.exp(-z))\n",
        "    return s"
      ]
    },
    {
      "cell_type": "code",
      "execution_count": 8,
      "metadata": {
        "id": "ebqhb78HxUt4"
      },
      "outputs": [],
      "source": [
        "\n",
        "def L_model_forward(X, parameters):\n",
        "\n",
        "\n",
        "    caches = {}\n",
        "    A = X\n",
        "    L = len(parameters) //2\n",
        "    \n",
        "    # Implement [LINEAR -> TANH]*(L-1) i.e. for L-1 layers .. and finally LINEAR->SIGMOID\n",
        "    for l in range(1, L):\n",
        "        A_prev = A \n",
        "        Zl=np.dot(parameters[\"W\"+str(l)],A_prev) + parameters[\"b\"+str(l)]\n",
        "        A=np.tanh(Zl)\n",
        "        caches[\"Z\"+str(l)]=Zl\n",
        "        caches[\"A\"+str(l)]=A\n",
        "    \n",
        "    # Implement LINEAR -> SIGMOID.\n",
        "    Zl=np.dot(parameters[\"W\"+str(L)],A) + parameters[\"b\"+str(L)]\n",
        "    AL=sigmoid(Zl)\n",
        "    caches[\"Z\"+str(L)]=Zl\n",
        "    caches[\"A\"+str(L)]=AL\n",
        "    \n",
        "    assert(AL.shape == (1,X.shape[1]))\n",
        "            \n",
        "    return AL, caches\n",
        "\n"
      ]
    },
    {
      "cell_type": "code",
      "execution_count": 9,
      "metadata": {
        "id": "XksQaKn_xege"
      },
      "outputs": [],
      "source": [
        "def compute_cost(A2, Y, parameters):\n",
        "\n",
        "    \n",
        "    m = Y.shape[1] # number of example\n",
        "\n",
        "    # Compute the cross-entropy cost\n",
        "    logprobs = logprobs = np.multiply(Y ,np.log(A2)) + np.multiply((1-Y), np.log(1-A2))\n",
        "    cost = (-1/m) * np.sum(logprobs)\n",
        "    \n",
        "    cost = float(np.squeeze(cost))  # makes sure cost is the dimension we expect. \n",
        "    assert(isinstance(cost, float))\n",
        "    \n",
        "    return cost"
      ]
    },
    {
      "cell_type": "code",
      "execution_count": 10,
      "metadata": {
        "id": "-2j4YUiOxm63"
      },
      "outputs": [],
      "source": [
        "\n",
        "def L_model_backward(AL,X, Y, caches,parameters):\n",
        "    grads={}\n",
        "    L = len(parameters) // 2 \n",
        "    m = AL.shape[1] \n",
        "    Y = Y.reshape(AL.shape) \n",
        "    dZL=AL-Y\n",
        "    for i in range(L,1,-1):\n",
        "      grads[\"dW\"+str(i)]=(1/m)*np.dot(dZL,caches[\"A\"+str(i-1)].T)\n",
        "      grads[\"db\"+str(i)]=(1/m)*(np.sum(dZL,axis=1,keepdims=True))\n",
        "      dZL=np.dot(parameters[\"W\"+str(i)].T,dZL)*(1-np.power(caches[\"A\"+str(i-1)],2))\n",
        "    grads[\"dW1\"]=(1/m)*(np.dot(dZL,X.T))\n",
        "    grads[\"db1\"]=(1/m)*(np.sum(dZL,axis=1,keepdims=True))\n",
        "    return grads\n",
        "\n"
      ]
    },
    {
      "cell_type": "code",
      "execution_count": 11,
      "metadata": {
        "id": "xE8u0g4qxvLP"
      },
      "outputs": [],
      "source": [
        "def update_parameters(parameters, grads, learning_rate):\n",
        "\n",
        "    \n",
        "    L = len(parameters)//2\n",
        "    for l in range(L):\n",
        "        parameters[\"W\" + str(l+1)] = parameters[\"W\" + str(l+1)] - learning_rate * grads[\"dW\" + str(l+1)]\n",
        "        parameters[\"b\" + str(l+1)] = parameters[\"b\" + str(l+1)] - learning_rate * grads[\"db\" + str(l+1)]\n",
        "        \n",
        "    return parameters\n"
      ]
    },
    {
      "cell_type": "code",
      "execution_count": null,
      "metadata": {
        "id": "jckSaIrmxzqL"
      },
      "outputs": [],
      "source": [
        "def nn_model(X, Y, layers_dims, learning_rate, num_iterations = 1000, print_cost=False):\n",
        "    n_x=X.shape[0]\n",
        "    n_y=Y.shape[0]\n",
        "\n",
        "    parameters = initialize_parameters_deep(layers_dims)\n",
        "    costs=[]\n",
        "    for i in range(0, num_iterations):\n",
        "        # Forward propagation\n",
        "        AL, cache = L_model_forward(X, parameters)\n",
        "        # Cost\n",
        "        cost = compute_cost(AL, Y, parameters)\n",
        "        # Backpropagation\n",
        "        grads = L_model_backward(AL,X, Y, cache,parameters)\n",
        "        # Update \n",
        "        parameters = update_parameters(parameters, grads, learning_rate)\n",
        "        if print_cost and i % 100 == 0:\n",
        "            print (\"Cost after iteration %i: %f\" %(i, cost))\n",
        "        if(i%10==0):\n",
        "            costs.append(cost)\n",
        "        \n",
        "    # Returns parameters learnt by the model\n",
        "    return parameters,costs"
      ]
    },
    {
      "cell_type": "code",
      "source": [
        "layers=[X_train.shape[0],32,64,128,256,1]"
      ],
      "metadata": {
        "id": "X1Jo6iXX_T8u"
      },
      "execution_count": 12,
      "outputs": []
    },
    {
      "cell_type": "code",
      "execution_count": null,
      "metadata": {
        "colab": {
          "base_uri": "https://localhost:8080/"
        },
        "id": "FUX0WsSpx8rG",
        "outputId": "ef58d879-e70f-41b6-9be3-195116ec0382"
      },
      "outputs": [
        {
          "name": "stdout",
          "output_type": "stream",
          "text": [
            "Cost after iteration 0: 0.680616\n",
            "Cost after iteration 100: 0.160500\n",
            "Cost after iteration 200: 0.133778\n",
            "Cost after iteration 300: 0.045415\n",
            "Cost after iteration 400: 0.074333\n",
            "Cost after iteration 500: 0.012121\n",
            "Cost after iteration 600: 0.007943\n",
            "Cost after iteration 700: 0.006777\n",
            "Cost after iteration 800: 0.006196\n",
            "Cost after iteration 900: 0.005814\n"
          ]
        }
      ],
      "source": [
        "\n",
        "parameters,cost = nn_model(X_train, Y_train, layers,1.2,num_iterations=1000, print_cost=True)"
      ]
    },
    {
      "cell_type": "code",
      "execution_count": 13,
      "metadata": {
        "id": "A5rQNn1ZyBQt"
      },
      "outputs": [],
      "source": [
        "def predict(parameters, X):\n",
        "    AL, cache = L_model_forward(X, parameters)\n",
        "    predictions = (AL > 0.5)\n",
        "    \n",
        "    return predictions"
      ]
    },
    {
      "cell_type": "code",
      "execution_count": null,
      "metadata": {
        "colab": {
          "base_uri": "https://localhost:8080/"
        },
        "id": "RaQ5PmfkyZwP",
        "outputId": "c2a84966-14e2-4dab-fc21-534be1689db6"
      },
      "outputs": [
        {
          "name": "stdout",
          "output_type": "stream",
          "text": [
            "Train Accuracy: 99%\n",
            "Validation Accuracy: 90%\n"
          ]
        }
      ],
      "source": [
        "predictions_train = predict(parameters, X_train)\n",
        "predictions_test = predict(parameters, X_val)\n",
        "print ('Train Accuracy: %d' % float((np.dot(Y_train,predictions_train.T) + np.dot(1-Y_train,1-predictions_train.T))/float(Y_train.size)*100) + '%')\n",
        "print ('Validation Accuracy: %d' % float((np.dot(Y_val,predictions_test.T) + np.dot(1-Y_val,1-predictions_test.T))/float(Y_val.size)*100) + '%')"
      ]
    },
    {
      "cell_type": "code",
      "execution_count": null,
      "metadata": {
        "colab": {
          "base_uri": "https://localhost:8080/",
          "height": 279
        },
        "id": "KMFDv2-1zAcc",
        "outputId": "7229214c-55e5-4945-b403-a7d4b5676395"
      },
      "outputs": [
        {
          "data": {
            "image/png": "[encoded data removed]",
            "text/plain": [
              "<Figure size 432x288 with 1 Axes>"
            ]
          },
          "metadata": {},
          "output_type": "display_data"
        }
      ],
      "source": [
        "costs = np.squeeze(cost)\n",
        "plt.plot(costs)\n",
        "plt.ylabel('cost')\n",
        "plt.xlabel('iterations (per tens)')\n",
        "plt.show()"
      ]
    },
    {
      "cell_type": "code",
      "execution_count": 14,
      "metadata": {
        "id": "ra04yjJo90gE"
      },
      "outputs": [],
      "source": [
        "def initialize_velocity(parameters):\n",
        "\n",
        "    \n",
        "    L = len(parameters) // 2\n",
        "    v = {}\n",
        "    \n",
        "    # Initialize velocity\n",
        "    for l in range(L):\n",
        "        v[\"dW\" + str(l+1)] = np.zeros((parameters[\"W\" + str(l+1)].shape[0], parameters[\"W\" + str(l+1)].shape[1]))\n",
        "        v[\"db\" + str(l+1)] = np.zeros((parameters[\"b\" + str(l+1)].shape[0], parameters[\"b\" + str(l+1)].shape[1]))\n",
        "        \n",
        "    return v"
      ]
    },
    {
      "cell_type": "code",
      "execution_count": 15,
      "metadata": {
        "id": "0kW2YAtkXPtb"
      },
      "outputs": [],
      "source": [
        "def update_parameters_with_momentum(parameters, grads, v, beta, learning_rate):\n",
        "\n",
        "    L = len(parameters) // 2 \n",
        "    \n",
        "    # Momentum update\n",
        "    for l in range(L):\n",
        "        # compute velocities\n",
        "        v[\"dW\" + str(l+1)] = beta*v[\"dW\" + str(l+1)] + (1 - beta)*grads['dW' + str(l+1)]\n",
        "        v[\"db\" + str(l+1)] = beta*v[\"db\" + str(l+1)] + (1 - beta)*grads['db' + str(l+1)]\n",
        "        # update parameters\n",
        "        parameters[\"W\" + str(l+1)] = parameters[\"W\" + str(l+1)] - learning_rate*v[\"dW\" + str(l+1)]\n",
        "        parameters[\"b\" + str(l+1)] = parameters[\"b\" + str(l+1)] - learning_rate*v[\"db\" + str(l+1)]\n",
        "        \n",
        "    return parameters, v"
      ]
    },
    {
      "cell_type": "code",
      "execution_count": 16,
      "metadata": {
        "id": "lzrp3jAWC9Hf"
      },
      "outputs": [],
      "source": [
        "import math\n",
        "def initialize_parameters_he(layers_dims):\n",
        "\n",
        "    L=len(layers_dims)\n",
        "    parameters = {}\n",
        "\n",
        "    for i in range(1,L):\n",
        "      parameters[\"W\"+str(i)]=np.random.randn(layers_dims[i],layers_dims[i-1])*math.sqrt(2./layers_dims[i-1])\n",
        "      parameters[\"b\"+str(i)]=np.zeros((layers_dims[i],1))*math.sqrt(2./layers_dims[i-1])\n",
        "        \n",
        "    return parameters"
      ]
    },
    {
      "cell_type": "code",
      "execution_count": 17,
      "metadata": {
        "id": "yM3_dv5HXk8O"
      },
      "outputs": [],
      "source": [
        "def nn_model_with_momentum(X, Y, X_test,Y_test,layers_dims, beta,learning_rate, k,num_iterations = 1000, print_cost=False):\n",
        "    n_x=X.shape[0]\n",
        "    n_y=Y.shape[0]\n",
        "    # parameters = initialize_parameters_deep(layers_dims)\n",
        "    parameters = initialize_parameters_he(layers_dims)\n",
        "    costs1=[]\n",
        "    costs2=[]\n",
        "    v = initialize_velocity(parameters)\n",
        "    for i in range(0, num_iterations):\n",
        "        AL, cache = L_model_forward(X, parameters)\n",
        "        A_test, cache_test = L_model_forward(X_test, parameters)\n",
        "        cost1 = compute_cost(AL, Y, parameters)\n",
        "        cost2=compute_cost(A_test,Y_test,parameters)\n",
        "        grads = L_model_backward(AL,X, Y, cache,parameters)\n",
        "        parameters,v = update_parameters_with_momentum(parameters, grads, v,beta,learning_rate)\n",
        "        if print_cost and i % 100 == 0:\n",
        "            print (\"Cost after iteration %i: %f\" %(i, cost1))\n",
        "        if(i%10==0):\n",
        "            costs1.append(cost1)\n",
        "            costs2.append(cost2)\n",
        "        if(i!=0 and i%15==0):\n",
        "          learning_rate=learning_rate*k\n",
        "    return parameters,costs1,costs2"
      ]
    },
    {
      "cell_type": "code",
      "execution_count": null,
      "metadata": {
        "colab": {
          "base_uri": "https://localhost:8080/"
        },
        "id": "Lz5cz6kuXqt5",
        "outputId": "7df92d24-41f5-471c-b0bc-099235144db4"
      },
      "outputs": [
        {
          "name": "stdout",
          "output_type": "stream",
          "text": [
            "Cost after iteration 0: 0.746894\n",
            "Cost after iteration 100: 0.215766\n",
            "Cost after iteration 200: 0.189080\n",
            "Cost after iteration 300: 0.163668\n",
            "Cost after iteration 400: 0.139658\n",
            "Cost after iteration 500: 0.118170\n",
            "Cost after iteration 600: 0.099049\n",
            "Cost after iteration 700: 0.082134\n",
            "Cost after iteration 800: 0.067682\n",
            "Cost after iteration 900: 0.055796\n",
            "Cost after iteration 1000: 0.046222\n",
            "Cost after iteration 1100: 0.038569\n",
            "Cost after iteration 1200: 0.032461\n",
            "Cost after iteration 1300: 0.027585\n",
            "Cost after iteration 1400: 0.023687\n",
            "Cost after iteration 1500: 0.020565\n",
            "Cost after iteration 1600: 0.018058\n",
            "Cost after iteration 1700: 0.016039\n",
            "Cost after iteration 1800: 0.014406\n",
            "Cost after iteration 1900: 0.013078\n"
          ]
        }
      ],
      "source": [
        "parameters_with_momentum,cost_with_momentum1,cost_with_momentum2 = nn_model_with_momentum(X_train, Y_train, X_val,Y_val,layers,0.8,0.1,1,num_iterations=2000, print_cost=True)"
      ]
    },
    {
      "cell_type": "code",
      "execution_count": null,
      "metadata": {
        "colab": {
          "base_uri": "https://localhost:8080/"
        },
        "id": "0nowPldiZCpR",
        "outputId": "b305fe1e-2490-4ea1-b619-fbca89edfd88"
      },
      "outputs": [
        {
          "name": "stdout",
          "output_type": "stream",
          "text": [
            "Train Accuracy: 99%\n",
            "Validation Accuracy: 89%\n"
          ]
        }
      ],
      "source": [
        "predictions_train_momentum = predict(parameters_with_momentum, X_train)\n",
        "predictions_test_momentum = predict(parameters_with_momentum, X_val)\n",
        "print ('Train Accuracy: %d' % float((np.dot(Y_train,predictions_train_momentum.T) + np.dot(1-Y_train,1-predictions_train_momentum.T))/float(Y_train.size)*100) + '%')\n",
        "print ('Validation Accuracy: %d' % float((np.dot(Y_val,predictions_test_momentum.T) + np.dot(1-Y_val,1-predictions_test_momentum.T))/float(Y_val.size)*100) + '%')"
      ]
    },
    {
      "cell_type": "code",
      "execution_count": null,
      "metadata": {
        "colab": {
          "base_uri": "https://localhost:8080/",
          "height": 295
        },
        "id": "Ns2osea_aKTm",
        "outputId": "47e05267-6748-4d80-811c-afe18990c4bf"
      },
      "outputs": [
        {
          "data": {
            "image/png": "[encoded data removed]",
            "text/plain": [
              "<Figure size 432x288 with 1 Axes>"
            ]
          },
          "metadata": {},
          "output_type": "display_data"
        }
      ],
      "source": [
        "t1 = np.squeeze(cost_with_momentum1)\n",
        "plt.plot(t1)\n",
        "plt.ylabel('training cost')\n",
        "plt.xlabel('iterations (per tens)')\n",
        "plt.title(\"training cost vs iterations\")\n",
        "plt.show()\n"
      ]
    },
    {
      "cell_type": "code",
      "execution_count": null,
      "metadata": {
        "colab": {
          "base_uri": "https://localhost:8080/",
          "height": 332
        },
        "id": "MYnUeAyIdljn",
        "outputId": "dc88a33d-047d-4c42-e99e-b667b4f9386a"
      },
      "outputs": [
        {
          "name": "stdout",
          "output_type": "stream",
          "text": [
            "[0.7408195030846872, 0.28203463622423053, 0.23512038026374432, 0.22854673599958478, 0.22361155315692297, 0.22141081080037456, 0.21956233857848154, 0.21822920726347808, 0.217276986752596, 0.21660605989381496, 0.2161517217466802, 0.21585956580950919, 0.21569509839453455, 0.2156322648427368, 0.21565281242782114, 0.2157434629075075, 0.21589479424751037, 0.2161002029670817, 0.21635516059875973, 0.21665666889633012, 0.21700282975558258, 0.21739252360425063, 0.21782516890732326, 0.21830054811691224, 0.21881868391332965, 0.21937975207955002, 0.2199840199268461, 0.22063180213956968, 0.22132342839606428, 0.22205921901773196, 0.22283946627853515, 0.2236644199921133, 0.2245342766609646, 0.22544917184932697, 0.2264091755593691, 0.2274142903088283, 0.2284644514197593, 0.22955952883630784, 0.23069932967936277, 0.23188360076103007, 0.23311203041835724, 0.2343842492461698, 0.23569982956602714, 0.23705828372499538, 0.23845906155687027, 0.23990154755759077, 0.24138505852322387, 0.24290884256001333, 0.24447208046658475, 0.24607389046259043, 0.2477133370513244, 0.24938944443723018, 0.2511012143973851, 0.2528476478984581, 0.25462776916625524, 0.25644065046506054, 0.2582854356180532, 0.26016136033647347, 0.26206776770289686, 0.26400411760793185, 0.265969989481717, 0.2679650782048843, 0.2699891835654762, 0.27204219401504653, 0.2741240657568405, 0.27623479838379106, 0.2783744083844954, 0.28054290186825975, 0.2827402478309034, 0.2849663532010626, 0.2872210407682092, 0.28950403091329996, 0.2918149278350705, 0.2941532107194894, 0.29651823002926886, 0.2989092088296684, 0.30132524881457945, 0.3037653404798378, 0.30622837670951175, 0.30871316891761336, 0.3112184648188345, 0.31374296690413866, 0.31628535074404496, 0.3188442823663116, 0.3214184340916218, 0.3240064983908403, 0.32660719950034517, 0.32921930270098443, 0.33184162130115935, 0.3344730214865524, 0.3371124252561605, 0.33975881173866207, 0.34241121714166434, 0.3450687336678952, 0.3477305075845931, 0.3503957367566889, 0.3530636677660357, 0.3557335928068026, 0.3584048465276772, 0.36107680279407717, 0.36374887163098046, 0.3664204962267527, 0.36909115016260485, 0.3717603348110317, 0.37442757700299517, 0.3770924269058336, 0.3797544560909459, 0.38241325589077024, 0.3850684359693963, 0.3877196229922933, 0.3903664596322008, 0.3930086036015334, 0.39564572697349953, 0.3982775154650649, 0.4009036679614433, 0.40352389601086436, 0.4061379235711624, 0.40874548662193555, 0.4113463329004059, 0.41394022157235033, 0.4165269230921388, 0.4191062190187544, 0.42167790152086126, 0.4242417735172118, 0.42679764787619445, 0.42934534792053203, 0.43188470635351456, 0.43441556528014824, 0.43693777575168613, 0.4394511976093687, 0.4419556989823526, 0.4444511558866593, 0.44693745172119914, 0.4494144770683193, 0.45188212934074806, 0.45434031143907716, 0.45678893324081554, 0.45922790830241883, 0.461657157029005, 0.4640766023675074, 0.4664861736391696, 0.4688858009122035, 0.47127542086536506, 0.4736549704385916, 0.4760243896434111, 0.4783836232116293, 0.48073261476248735, 0.4830713113187018, 0.48539966075597285, 0.48771761314355616, 0.4900251185745282, 0.49232212968078337, 0.4946085972535033, 0.4968844753662907, 0.49914971810727843, 0.5014042771995431, 0.5036481131885823, 0.5058811763006178, 0.5081034268344633, 0.5103148208537883, 0.5125153166942, 0.5147048703741296, 0.5168834445063508, 0.5190510005345076, 0.5212074970631444, 0.5233529018935958, 0.5254871786613676, 0.5276102917139346, 0.5297222156006162, 0.5318229151729692, 0.5339123620307626, 0.5359905315545661, 0.5380574062243962, 0.5401129621574217, 0.5421571725135459, 0.5441900365164594, 0.5462115348051099, 0.5482216595477333, 0.5502203964711365, 0.5522077479706915, 0.5541837064526208, 0.556148281816703, 0.558101484556827, 0.5600433027923356, 0.5619737608570844, 0.5638928805492809, 0.5658006559248042, 0.5676971255832327, 0.5695822980398919, 0.571456217501875, 0.573318895309421, 0.575170366667168, 0.577010670419726, 0.5788398423503484, 0.58065792885312, 0.5824649366041944, 0.5842609611862318, 0.5860459999999383, 0.587820134625773, 0.5895833777534507]\n"
          ]
        },
        {
          "data": {
            "image/png": "[encoded data removed]",
            "text/plain": [
              "<Figure size 432x288 with 1 Axes>"
            ]
          },
          "metadata": {},
          "output_type": "display_data"
        }
      ],
      "source": [
        "print(cost_with_momentum2)\n",
        "t2 = np.squeeze(cost_with_momentum2)\n",
        "plt.plot(t2)\n",
        "plt.ylabel('validation cost')\n",
        "plt.xlabel('iterations (per tens)')\n",
        "plt.title(\"validation cost vs iterations\")\n",
        "plt.show()"
      ]
    },
    {
      "cell_type": "code",
      "execution_count": null,
      "metadata": {
        "colab": {
          "background_save": true,
          "base_uri": "https://localhost:8080/"
        },
        "id": "PLQw_2iEf5jh",
        "outputId": "33544245-4553-4b62-ae89-56053186482e"
      },
      "outputs": [
        {
          "name": "stderr",
          "output_type": "stream",
          "text": [
            "/usr/local/lib/python3.7/dist-packages/ipykernel_launcher.py:7: RuntimeWarning: divide by zero encountered in log\n",
            "  import sys\n",
            "/usr/local/lib/python3.7/dist-packages/ipykernel_launcher.py:7: RuntimeWarning: invalid value encountered in multiply\n",
            "  import sys\n"
          ]
        },
        {
          "name": "stdout",
          "output_type": "stream",
          "text": [
            "[90.49429657794677, 91.63498098859316, 91.63498098859316, 90.8745247148289, 89.35361216730038, 90.11406844106465, 90.49429657794677, 88.59315589353612, 87.83269961977186, 88.97338403041825, 88.59315589353612, 89.35361216730038, 89.35361216730038, 88.59315589353612, 90.49429657794677, 90.49429657794677, 87.83269961977186, 86.69201520912547, 89.73384030418251]\n"
          ]
        }
      ],
      "source": [
        "learning=[0.01,0.02,0.06,0.1,0.2,0.4,0.6,0.8,1,1.2,1.4,1.6,1.8,2,2.4,2.8,3.2,3.6,4]\n",
        "acc1=[]\n",
        "acc2=[]\n",
        "for l in learning:\n",
        "  parameters_with_momentum,cost_with_momentum1,cost_with_momentum2 = nn_model_with_momentum(X_train, Y_train, X_val,Y_val,layers,0.8,l,1,num_iterations=2000, print_cost=False)\n",
        "  predictions_test_momentum = predict(parameters_with_momentum, X_val)\n",
        "  predictions_train_momentum = predict(parameters_with_momentum, X_train)\n",
        "  acc1.append(float((np.dot(Y_val,predictions_test_momentum.T) + np.dot(1-Y_val,1-predictions_test_momentum.T))/float(Y_val.size)*100))\n",
        "  acc2.append(float((np.dot(Y_train,predictions_train_momentum.T) + np.dot(1-Y_train,1-predictions_train_momentum.T))/float(Y_train.size)*100))\n",
        "print(acc1)\n"
      ]
    },
    {
      "cell_type": "code",
      "execution_count": null,
      "metadata": {
        "colab": {
          "background_save": true
        },
        "id": "0WwV9rM--cU8",
        "outputId": "36e41f9d-d923-4a1a-ee12-9921679f8469"
      },
      "outputs": [
        {
          "data": {
            "image/png": "[encoded data removed]",
            "text/plain": [
              "<Figure size 432x288 with 1 Axes>"
            ]
          },
          "metadata": {},
          "output_type": "display_data"
        }
      ],
      "source": [
        "plt.plot(learning,acc2)\n",
        "plt.ylabel('Training accuracy')\n",
        "plt.xlabel('learning rate')\n",
        "plt.title(\"Training accuracy vs learning rate\")\n",
        "plt.show()"
      ]
    },
    {
      "cell_type": "code",
      "execution_count": null,
      "metadata": {
        "colab": {
          "background_save": true
        },
        "id": "eTK75naEhQ50",
        "outputId": "9d9ade85-6e0c-4378-eee8-9d06c1adc71e"
      },
      "outputs": [
        {
          "data": {
            "image/png": "[encoded data removed]",
            "text/plain": [
              "<Figure size 432x288 with 1 Axes>"
            ]
          },
          "metadata": {},
          "output_type": "display_data"
        }
      ],
      "source": [
        "plt.plot(learning,acc1)\n",
        "plt.ylabel('validation accuracy')\n",
        "plt.xlabel('learning rate')\n",
        "plt.title(\"validation accuracy vs learning rate\")\n",
        "plt.show()"
      ]
    },
    {
      "cell_type": "markdown",
      "metadata": {
        "id": "m_QmVMCIENII"
      },
      "source": [
        "Used initial learning rate with max accuracy above"
      ]
    },
    {
      "cell_type": "code",
      "execution_count": null,
      "metadata": {
        "colab": {
          "background_save": true
        },
        "id": "bloPzoGBBitP",
        "outputId": "93b68ac7-b5bd-42f5-8422-7a8f9e01ac4c"
      },
      "outputs": [
        {
          "name": "stderr",
          "output_type": "stream",
          "text": [
            "/usr/local/lib/python3.7/dist-packages/ipykernel_launcher.py:7: RuntimeWarning: divide by zero encountered in log\n",
            "  import sys\n",
            "/usr/local/lib/python3.7/dist-packages/ipykernel_launcher.py:7: RuntimeWarning: invalid value encountered in multiply\n",
            "  import sys\n"
          ]
        },
        {
          "name": "stdout",
          "output_type": "stream",
          "text": [
            "[90.49429657794677, 90.49429657794677, 90.11406844106465, 91.25475285171103, 92.01520912547528, 92.01520912547528, 90.49429657794677, 90.49429657794677, 89.73384030418251, 89.73384030418251, 86.69201520912547]\n"
          ]
        }
      ],
      "source": [
        "learning_rate_update=[0.6,0.65,0.7,0.75,0.8,0.85,0.9,0.95,0.98,0.99,0.999]\n",
        "acc3=[]\n",
        "for k in learning_rate_update:\n",
        "  parameters_with_momentum,cost_with_momentum1,cost_with_momentum2 = nn_model_with_momentum(X_train, Y_train, X_val,Y_val,layers,0.8,1.2,k,num_iterations=2000, print_cost=False)\n",
        "  predictions_test_momentum = predict(parameters_with_momentum, X_val)\n",
        "  acc3.append(float((np.dot(Y_val,predictions_test_momentum.T) + np.dot(1-Y_val,1-predictions_test_momentum.T))/float(Y_val.size)*100))\n",
        "print(acc3)"
      ]
    },
    {
      "cell_type": "code",
      "execution_count": null,
      "metadata": {
        "colab": {
          "background_save": true
        },
        "id": "IbNmH0JyD5Vq",
        "outputId": "54d5ad68-8b6f-424f-f544-48da0cbc45e1"
      },
      "outputs": [
        {
          "data": {
            "image/png": "[encoded data removed]",
            "text/plain": [
              "<Figure size 432x288 with 1 Axes>"
            ]
          },
          "metadata": {},
          "output_type": "display_data"
        }
      ],
      "source": [
        "plt.plot(learning_rate_update,acc3)\n",
        "plt.ylabel('validation accuracy')\n",
        "plt.xlabel('learning rate update parameter')\n",
        "plt.title(\"validation accuracy vs learning rate update parameter\")\n",
        "plt.show()"
      ]
    },
    {
      "cell_type": "code",
      "execution_count": 18,
      "metadata": {
        "id": "v0fX5DdCGbKG"
      },
      "outputs": [],
      "source": [
        "def L_model_forward_with_dropout(X, parameters,keep_prob):\n",
        "\n",
        "\n",
        "    caches = {}\n",
        "    A = X\n",
        "    L = len(parameters)//2\n",
        "    \n",
        "    # Implement LINEAR -> TANH\n",
        "    for l in range(1, L):\n",
        "        \n",
        "        Zl=np.dot(parameters[\"W\"+str(l)],A) + parameters[\"b\"+str(l)]\n",
        "    \n",
        "        \n",
        "        Al=np.tanh(Zl)\n",
        "        Dl=np.random.rand(Al.shape[0],Al.shape[1])\n",
        "        Dl=(Dl<keep_prob).astype(int)\n",
        "        Al=Al*Dl\n",
        "        Al=Al/keep_prob\n",
        "        caches[\"Z\"+str(l)]=Zl\n",
        "        caches[\"A\"+str(l)]=Al\n",
        "        caches[\"D\"+str(l)]=Dl\n",
        "        A=Al\n",
        "\n",
        "    Zl=np.dot(parameters[\"W\"+str(L)],A) + parameters[\"b\"+str(L)]\n",
        "    AL=sigmoid(Zl)\n",
        "    caches[\"Z\"+str(L)]=Zl\n",
        "    caches[\"A\"+str(L)]=AL\n",
        "    \n",
        "    assert(AL.shape == (1,X.shape[1]))\n",
        "            \n",
        "    return AL, caches\n"
      ]
    },
    {
      "cell_type": "code",
      "execution_count": 19,
      "metadata": {
        "id": "AFfHa8IuHf-P"
      },
      "outputs": [],
      "source": [
        "def L_model_backward_with_dropout(AL,X, Y, caches,parameters,keep_prob):\n",
        "\n",
        "    grads={}\n",
        "    L = len(parameters) // 2 \n",
        "    m = X.shape[1] \n",
        "    #Y = Y.reshape(AL.shape) \n",
        "    dZL=AL-Y\n",
        "    for i in range(L,1,-1):\n",
        "      dWl=(1./m)*np.dot(dZL,caches[\"A\"+str(i-1)].T)\n",
        "      dbl=(1./m)*(np.sum(dZL,axis=1,keepdims=True))\n",
        "      dAl=np.dot(parameters[\"W\"+str(i)].T,dZL)\n",
        "      dAl=dAl*caches[\"D\"+str(i-1)]\n",
        "      dAl=dAl/keep_prob\n",
        "      grads[\"dW\"+str(i)]=dWl\n",
        "      grads[\"db\"+str(i)]=dbl\n",
        "      grads[\"dZ\"+str(i)]=dZL\n",
        "      dZL=np.multiply(dAl,(1-np.power(caches[\"A\"+str(i-1)],2)))\n",
        "      #dZL=np.multiply(dAl,np.int64(caches[\"A\"+str(i-1)] > 0))\n",
        "    grads[\"dW1\"]=(1./m)*(np.dot(dZL,X.T))\n",
        "    grads[\"db1\"]=(1./m)*(np.sum(dZL,axis=1,keepdims=True))\n",
        "    grads[\"dZ1\"]=dZL\n",
        "    return grads\n"
      ]
    },
    {
      "cell_type": "code",
      "execution_count": 20,
      "metadata": {
        "id": "TXHUl2E0IHe8"
      },
      "outputs": [],
      "source": [
        "def nn_model_with_momentum_with_dropout(X, Y, X_test,Y_test,layers_dims, beta,learning_rate, num_iterations = 1000, print_cost=False, keep_prob = 0.9):\n",
        "    n_x=X.shape[0]\n",
        "    n_y=Y.shape[0]\n",
        "    # parameters = initialize_parameters_deep(layers_dims)\n",
        "    parameters = initialize_parameters_he(layers_dims)\n",
        "    costs1=[]\n",
        "    costs2=[]\n",
        "    v = initialize_velocity(parameters)\n",
        "    for i in range(0, num_iterations):\n",
        "        AL, cache =L_model_forward_with_dropout(X, parameters,keep_prob)\n",
        "        A_test, cache_test = L_model_forward_with_dropout(X_test, parameters,keep_prob)\n",
        "        cost1 = compute_cost(AL, Y, parameters)\n",
        "        cost2=compute_cost(A_test,Y_test,parameters)\n",
        "        grads = L_model_backward_with_dropout(AL,X, Y, cache,parameters,keep_prob)\n",
        "        parameters,v = update_parameters_with_momentum(parameters, grads, v,beta,learning_rate)\n",
        "        if print_cost and i % 1000 == 0:\n",
        "            print (\"Cost after iteration %i: %f\" %(i, cost1))\n",
        "        if(i%10==0):\n",
        "            costs1.append(cost1)\n",
        "            costs2.append(cost2)\n",
        "    return parameters,costs1,costs2"
      ]
    },
    {
      "cell_type": "code",
      "execution_count": null,
      "metadata": {
        "colab": {
          "background_save": true
        },
        "id": "j7KIDS7WLzk0",
        "outputId": "ed6fe02e-f5f2-4418-f0b3-5768957b96af"
      },
      "outputs": [
        {
          "name": "stdout",
          "output_type": "stream",
          "text": [
            "Cost after iteration 0: 1.047836\n",
            "Cost after iteration 1000: 0.102116\n",
            "Cost after iteration 2000: 0.049827\n",
            "Cost after iteration 3000: 0.042262\n",
            "Cost after iteration 4000: 0.037026\n",
            "Cost after iteration 5000: 0.020193\n"
          ]
        }
      ],
      "source": [
        "parameters_with_momentum_with_dropout,cost_with_momentum1_with_dropout,cost_with_momentum2_with_dropout = nn_model_with_momentum_with_dropout(X_train, Y_train, X_val,Y_val,layers,0.8,0.4,num_iterations=6000, print_cost=True)"
      ]
    },
    {
      "cell_type": "code",
      "execution_count": null,
      "metadata": {
        "colab": {
          "background_save": true
        },
        "id": "ZwJU7kF5L-hX",
        "outputId": "d6a8749a-76c3-40c3-aef1-a284b439af54"
      },
      "outputs": [
        {
          "name": "stdout",
          "output_type": "stream",
          "text": [
            "Train Accuracy: 99%\n",
            "Validation Accuracy: 88%\n"
          ]
        }
      ],
      "source": [
        "predictions_train_momentum_with_dropout = predict(parameters_with_momentum_with_dropout, X_train)\n",
        "predictions_test_momentum_with_dropout = predict(parameters_with_momentum_with_dropout, X_val)\n",
        "print ('Train Accuracy: %d' % float((np.dot(Y_train,predictions_train_momentum_with_dropout.T) + np.dot(1-Y_train,1-predictions_train_momentum_with_dropout.T))/float(Y_train.size)*100) + '%')\n",
        "print ('Validation Accuracy: %d' % float((np.dot(Y_val,predictions_test_momentum_with_dropout.T) + np.dot(1-Y_val,1-predictions_test_momentum_with_dropout.T))/float(Y_val.size)*100) + '%')"
      ]
    },
    {
      "cell_type": "code",
      "execution_count": null,
      "metadata": {
        "colab": {
          "background_save": true
        },
        "id": "TFVSxh7MMoqC",
        "outputId": "5a9c6d99-fdd7-4c35-cb96-c8c75a5c09ea"
      },
      "outputs": [
        {
          "data": {
            "image/png": "[encoded data removed]",
            "text/plain": [
              "<Figure size 432x288 with 1 Axes>"
            ]
          },
          "metadata": {},
          "output_type": "display_data"
        }
      ],
      "source": [
        "t3 = np.squeeze(cost_with_momentum1_with_dropout)\n",
        "plt.plot(t3)\n",
        "plt.ylabel('training cost')\n",
        "plt.xlabel('iterations (per tens)')\n",
        "plt.show()"
      ]
    },
    {
      "cell_type": "code",
      "execution_count": null,
      "metadata": {
        "colab": {
          "background_save": true
        },
        "id": "Vp8a6nM9Mxt8",
        "outputId": "ac368554-738e-4d47-ebb4-992c006e47de"
      },
      "outputs": [
        {
          "data": {
            "image/png": "[encoded data removed]",
            "text/plain": [
              "<Figure size 432x288 with 1 Axes>"
            ]
          },
          "metadata": {},
          "output_type": "display_data"
        }
      ],
      "source": [
        "#print(cost_with_momentum2)\n",
        "t4 = np.squeeze(cost_with_momentum2_with_dropout)\n",
        "plt.plot(t4)\n",
        "plt.ylabel('validation cost')\n",
        "plt.xlabel('iterations (per tens)')\n",
        "plt.show()"
      ]
    },
    {
      "cell_type": "code",
      "execution_count": null,
      "metadata": {
        "colab": {
          "background_save": true
        },
        "id": "GHn6nfn93u2p",
        "outputId": "d592c3b4-a1a5-429d-f30c-3421960c7969"
      },
      "outputs": [
        {
          "name": "stdout",
          "output_type": "stream",
          "text": [
            "Final test Accuracy: 90%\n"
          ]
        }
      ],
      "source": [
        "predictions_val = predict(parameters_with_momentum_with_dropout, X_test)\n",
        "print ('Final test Accuracy: %d' % float((np.dot(Y_test,predictions_val.T) + np.dot(1-Y_test,1-predictions_val.T))/float(Y_test.size)*100) + '%')"
      ]
    },
    {
      "cell_type": "markdown",
      "metadata": {
        "id": "Ywkakd183tDz"
      },
      "source": [
        "Confusion matrix"
      ]
    },
    {
      "cell_type": "code",
      "execution_count": null,
      "metadata": {
        "colab": {
          "background_save": true
        },
        "id": "Mf-NfZrX2yA0",
        "outputId": "2de209c5-4f73-4794-ed51-b4dce9222d54"
      },
      "outputs": [
        {
          "name": "stdout",
          "output_type": "stream",
          "text": [
            "n11: 109\n",
            "n12: 17\n",
            "n21: 14\n",
            "n22: 123\n"
          ]
        }
      ],
      "source": [
        "n11=0\n",
        "n12=0\n",
        "n21=0\n",
        "n22=0\n",
        "for i in range(Y_val.shape[1]):\n",
        "  if(Y_val[0,i]==0 and predictions_test_momentum_with_dropout[0,i]==False):\n",
        "    n11+=1\n",
        "  elif(Y_val[0,i]==0 and predictions_test_momentum_with_dropout[0,i]==True):\n",
        "    n12+=1\n",
        "  elif(Y_val[0,i]==1 and predictions_test_momentum_with_dropout[0,i]==False):\n",
        "    n21+=1\n",
        "  else:\n",
        "    n22+=1\n",
        "print(\"n11: \"+str(n11))\n",
        "print(\"n12: \"+str(n12))\n",
        "print(\"n21: \"+str(n21))\n",
        "print(\"n22: \"+str(n22))"
      ]
    },
    {
      "cell_type": "code",
      "execution_count": null,
      "metadata": {
        "colab": {
          "background_save": true
        },
        "id": "Sq5ZU_0iDJHW",
        "outputId": "95586688-cb94-49a2-d08b-859a2ad11c5a"
      },
      "outputs": [
        {
          "data": {
            "image/png": "[encoded data removed]",
            "text/plain": [
              "<Figure size 540x252 with 1 Axes>"
            ]
          },
          "metadata": {},
          "output_type": "display_data"
        }
      ],
      "source": [
        "\n",
        "plt.rcParams[\"figure.figsize\"] = [7.50, 3.50]\n",
        "plt.rcParams[\"figure.autolayout\"] = True\n",
        "overlapping = 0.150\n",
        "line1 = plt.plot(t1, c='red', alpha=overlapping, lw=5)\n",
        "line2 = plt.plot(t3, c='green', alpha=overlapping,\n",
        "lw=5)\n",
        "plt.xlabel(\"iterations\")\n",
        "plt.ylabel(\"Training loss\")\n",
        "plt.show()"
      ]
    },
    {
      "cell_type": "code",
      "execution_count": null,
      "metadata": {
        "colab": {
          "background_save": true
        },
        "id": "bBhpHRSpH5A7",
        "outputId": "97a128ec-c68a-47f6-f1a8-15032d009ed4"
      },
      "outputs": [
        {
          "data": {
            "image/png": "[encoded data removed]",
            "text/plain": [
              "<Figure size 540x252 with 1 Axes>"
            ]
          },
          "metadata": {},
          "output_type": "display_data"
        }
      ],
      "source": [
        "plt.rcParams[\"figure.figsize\"] = [7.50, 3.50]\n",
        "plt.rcParams[\"figure.autolayout\"] = True\n",
        "overlapping = 0.150\n",
        "line1 = plt.plot(t2, color='r', alpha=overlapping, lw=5)\n",
        "line2 = plt.plot(t4, color='g', alpha=overlapping,\n",
        "lw=5)\n",
        "plt.xlabel(\"iterations\")\n",
        "plt.ylabel(\"Validation loss\")\n",
        "plt.show()"
      ]
    },
    {
      "cell_type": "code",
      "execution_count": null,
      "metadata": {
        "colab": {
          "background_save": true
        },
        "id": "THipEWqoNMMF",
        "outputId": "d9de6110-606a-4e1e-e080-1748a5612f89"
      },
      "outputs": [
        {
          "name": "stderr",
          "output_type": "stream",
          "text": [
            "/usr/local/lib/python3.7/dist-packages/ipykernel_launcher.py:7: RuntimeWarning: divide by zero encountered in log\n",
            "  import sys\n",
            "/usr/local/lib/python3.7/dist-packages/ipykernel_launcher.py:7: RuntimeWarning: invalid value encountered in multiply\n",
            "  import sys\n"
          ]
        },
        {
          "name": "stdout",
          "output_type": "stream",
          "text": [
            "[91.25475285171103, 91.63498098859316, 87.83269961977186, 89.73384030418251, 85.17110266159695, 86.31178707224335, 88.212927756654, 88.212927756654]\n"
          ]
        },
        {
          "data": {
            "image/png": "[encoded data removed]",
            "text/plain": [
              "<Figure size 540x252 with 1 Axes>"
            ]
          },
          "metadata": {},
          "output_type": "display_data"
        }
      ],
      "source": [
        "learning=[0.01,0.05,0.1,0.5,0.9,1.5,2,4]\n",
        "acc=[]\n",
        "for l in learning:\n",
        "  parameters_with_momentum_with_dropout,cost_with_momentum1_with_dropout,cost_with_momentum2_with_dropout = nn_model_with_momentum_with_dropout(X_train, Y_train, X_val,Y_val,layers,0.8,l,num_iterations=2000, print_cost=False)\n",
        "  predictions_test_momentum_with_dropout = predict(parameters_with_momentum_with_dropout, X_val)\n",
        "  acc.append(float((np.dot(Y_val,predictions_test_momentum_with_dropout.T) + np.dot(1-Y_val,1-predictions_test_momentum_with_dropout.T))/float(Y_val.size)*100))\n",
        "print(acc)\n",
        "plt.plot(learning,acc)\n",
        "plt.ylabel('validation accuracy')\n",
        "plt.xlabel('learning rate')\n",
        "plt.title(\"validation accuracy vs learning rate\")\n",
        "plt.show()"
      ]
    },
    {
      "cell_type": "code",
      "execution_count": 21,
      "metadata": {
        "id": "1JkwTwplQgz6"
      },
      "outputs": [],
      "source": [
        "\n",
        "def compute_cost_with_l2regularization(AL, Y, parameters, lambd):\n",
        "    m = Y.shape[1]\n",
        "    L=len(parameters)//2\n",
        "    cross_entropy_cost = compute_cost(AL, Y,parameters) \n",
        "    s1=0\n",
        "    for i in range(1,L+1):\n",
        "      s1+=np.sum(np.square(parameters[\"W\"+str(i)]))\n",
        "    L2_regularization_cost = lambd/(2*m)*(s1)\n",
        "    \n",
        "    cost = cross_entropy_cost + L2_regularization_cost\n",
        "    \n",
        "    return cost"
      ]
    },
    {
      "cell_type": "code",
      "execution_count": 22,
      "metadata": {
        "id": "P-hoG3ppRTbb"
      },
      "outputs": [],
      "source": [
        "def backward_propagation_with_l2regularization(X, Y, AL,cache, parameters,lambd):\n",
        "    \n",
        "    m = X.shape[1]\n",
        "    L=len(parameters)//2\n",
        "    grads={}\n",
        "    dZL=AL-Y\n",
        "    for i in range(L,1,-1):\n",
        "      dWi=(1./m)*np.dot(dZL,cache[\"A\"+str(i-1)].T)+ (lambd/m)*parameters[\"W\"+str(i)]\n",
        "      dbi=(1./m)*(np.sum(dZL,axis=1,keepdims=True))\n",
        "      dAi=np.dot(parameters[\"W\"+str(i)].T,dZL)\n",
        "      grads[\"dW\"+str(i)]=dWi\n",
        "      grads[\"db\"+str(i)]=dbi\n",
        "      grads[\"dZ\"+str(i)]=dZL\n",
        "      grads[\"dA\"+str(i-1)]=dAi\n",
        "      dZL=np.multiply(dAi,np.int64(cache[\"A\"+str(i-1)]>0))\n",
        "    dW1=(1./m)*np.dot(dZL,X.T)+ (lambd/m)*parameters[\"W1\"]\n",
        "    db1 = 1./m * np.sum(dZL, axis=1, keepdims = True)\n",
        "    grads[\"dW1\"]=dW1\n",
        "    grads[\"db1\"]=db1\n",
        "    grads[\"dZ1\"]=dZL\n",
        " \n",
        "    return grads"
      ]
    },
    {
      "cell_type": "code",
      "execution_count": 23,
      "metadata": {
        "id": "rydSWvZVS1uk"
      },
      "outputs": [],
      "source": [
        "def nn_model_with_momentum_l2regularization(X, Y, X_test,Y_test,layers_dims, beta,lambd,learning_rate, num_iterations = 1000, print_cost=False):\n",
        "    n_x=X.shape[0]\n",
        "    n_y=Y.shape[0]\n",
        "    # parameters = initialize_parameters_deep(layers_dims)\n",
        "    parameters = initialize_parameters_he(layers_dims)\n",
        "    costs1=[]\n",
        "    costs2=[]\n",
        "    v = initialize_velocity(parameters)\n",
        "    for i in range(0, num_iterations):\n",
        "        AL, cache = L_model_forward(X, parameters)\n",
        "        A_test, cache_test = L_model_forward(X_test, parameters)\n",
        "        cost1 = compute_cost_with_l2regularization(AL, Y, parameters,lambd)\n",
        "        cost2=compute_cost_with_l2regularization(A_test,Y_test,parameters,lambd)\n",
        "        grads = backward_propagation_with_l2regularization(X, Y, AL,cache, parameters,lambd)\n",
        "        parameters,v = update_parameters_with_momentum(parameters, grads, v,beta,learning_rate)\n",
        "        if print_cost and i % 100 == 0:\n",
        "            print (\"Cost after iteration %i: %f\" %(i, cost1))\n",
        "        if(i%10==0):\n",
        "            costs1.append(cost1)\n",
        "            costs2.append(cost2)\n",
        "    return parameters,costs1,costs2"
      ]
    },
    {
      "cell_type": "code",
      "execution_count": null,
      "metadata": {
        "colab": {
          "background_save": true
        },
        "id": "-cHkgDGMTwGb",
        "outputId": "9cfb5104-e9a0-48d8-a5d5-038997714832"
      },
      "outputs": [
        {
          "name": "stdout",
          "output_type": "stream",
          "text": [
            "Cost after iteration 0: 1.967875\n",
            "Cost after iteration 100: 1.546330\n",
            "Cost after iteration 200: 1.471459\n",
            "Cost after iteration 300: 1.409023\n",
            "Cost after iteration 400: 1.358318\n"
          ]
        }
      ],
      "source": [
        "parameters_with_momentum_l2regularization,cost_with_momentum1_l2regularization,cost_with_momentum2_l2regularization = nn_model_with_momentum_l2regularization(X_train, Y_train, X_val,Y_val,layers,0.8,3,0.1,num_iterations=500, print_cost=True)"
      ]
    },
    {
      "cell_type": "code",
      "execution_count": null,
      "metadata": {
        "colab": {
          "background_save": true
        },
        "id": "IzlQ8-QKU1YX",
        "outputId": "f861f9c3-c920-4e8f-ac67-2f7605581698"
      },
      "outputs": [
        {
          "name": "stdout",
          "output_type": "stream",
          "text": [
            "Train Accuracy: 90%\n",
            "Validation Accuracy: 90%\n"
          ]
        }
      ],
      "source": [
        "predictions_train_momentum_l2regularization = predict(parameters_with_momentum_l2regularization, X_train)\n",
        "predictions_test_momentum_l2regularization = predict(parameters_with_momentum_l2regularization, X_val)\n",
        "print ('Train Accuracy: %d' % float((np.dot(Y_train,predictions_train_momentum_l2regularization.T) + np.dot(1-Y_train,1-predictions_train_momentum_l2regularization.T))/float(Y_train.size)*100) + '%')\n",
        "print ('Validation Accuracy: %d' % float((np.dot(Y_val,predictions_test_momentum_l2regularization.T) + np.dot(1-Y_val,1-predictions_test_momentum_l2regularization.T))/float(Y_val.size)*100) + '%')"
      ]
    },
    {
      "cell_type": "code",
      "execution_count": null,
      "metadata": {
        "colab": {
          "background_save": true
        },
        "id": "hM02oQdHV4WB",
        "outputId": "4aad9864-7f47-4a8a-b29b-a4bed4b14d89"
      },
      "outputs": [
        {
          "name": "stdout",
          "output_type": "stream",
          "text": [
            "[88.59315589353612, 87.83269961977186, 90.11406844106465, 87.83269961977186, 87.07224334600761, 87.83269961977186, 82.12927756653993, 88.212927756654, 89.35361216730038, 91.25475285171103, 90.11406844106465]\n"
          ]
        }
      ],
      "source": [
        "lambda_l2=[0.01,0.09,0.13,0.89,1.5,2.7,6,10,20,50,100]\n",
        "acc_l2=[]\n",
        "for l2 in lambda_l2:\n",
        "  parameters_with_momentum_l2regularization,cost_with_momentum1_l2regularization,cost_with_momentum2_l2regularization = nn_model_with_momentum_l2regularization(X_train, Y_train, X_val,Y_val,layers,0.8,l2,0.1,num_iterations=2000, print_cost=False)\n",
        "  predictions_test_momentum_l2regularization = predict(parameters_with_momentum_l2regularization, X_val)\n",
        "  acc_l2.append(float((np.dot(Y_val,predictions_test_momentum_l2regularization.T) + np.dot(1-Y_val,1-predictions_test_momentum_l2regularization.T))/float(Y_val.size)*100))\n",
        "print(acc_l2)"
      ]
    },
    {
      "cell_type": "code",
      "execution_count": null,
      "metadata": {
        "colab": {
          "background_save": true
        },
        "id": "q8OLK0lpXt9M",
        "outputId": "143a4379-9ea7-4790-ce8e-86dba2d423df"
      },
      "outputs": [
        {
          "data": {
            "image/png": "[encoded data removed]",
            "text/plain": [
              "<Figure size 540x252 with 1 Axes>"
            ]
          },
          "metadata": {},
          "output_type": "display_data"
        }
      ],
      "source": [
        "plt.plot(lambda_l2,acc_l2)\n",
        "plt.ylabel('validation accuracy')\n",
        "plt.xlabel('lambda')\n",
        "plt.title(\"validation accuracy with L2 regularization vs lambda\")\n",
        "plt.show()"
      ]
    },
    {
      "cell_type": "code",
      "execution_count": null,
      "metadata": {
        "colab": {
          "background_save": true
        },
        "id": "HeoUa4NOIYZL",
        "outputId": "af2330a9-8e14-47d2-f621-824909f0b088"
      },
      "outputs": [
        {
          "name": "stdout",
          "output_type": "stream",
          "text": [
            "Cost after iteration 0: 0.709616\n",
            "Cost after iteration 100: 0.284734\n",
            "Cost after iteration 200: 0.265280\n",
            "Cost after iteration 300: 0.260820\n",
            "Cost after iteration 400: 0.260162\n",
            "Cost after iteration 500: 0.260121\n",
            "Cost after iteration 600: 0.259465\n",
            "Cost after iteration 700: 0.260118\n",
            "Cost after iteration 800: 0.260231\n",
            "Cost after iteration 900: 0.263059\n",
            "Cost after iteration 1000: 0.268955\n",
            "Cost after iteration 1100: 0.276570\n",
            "Cost after iteration 1200: 0.281470\n",
            "Cost after iteration 1300: 0.285845\n",
            "Cost after iteration 1400: 0.290859\n",
            "Cost after iteration 1500: 0.295019\n",
            "Cost after iteration 1600: 0.297586\n",
            "Cost after iteration 1700: 0.298852\n",
            "Cost after iteration 1800: 0.299338\n",
            "Cost after iteration 1900: 0.299259\n",
            "Train Accuracy: 88%\n",
            "Test Accuracy: 88%\n"
          ]
        }
      ],
      "source": [
        "parameters_with_momentum_l2regularization,cost_with_momentum1_l2regularization,cost_with_momentum2_l2regularization = nn_model_with_momentum_l2regularization(X_train, Y_train, X_val,Y_val,[10,18,4,1],0.8,0.13,0.1,num_iterations=2000, print_cost=True)\n",
        "predictions_train_momentum_l2regularization = predict(parameters_with_momentum_l2regularization, X_train)\n",
        "predictions_test_momentum_l2regularization = predict(parameters_with_momentum_l2regularization, X_val)\n",
        "print ('Train Accuracy: %d' % float((np.dot(Y_train,predictions_train_momentum_l2regularization.T) + np.dot(1-Y_train,1-predictions_train_momentum_l2regularization.T))/float(Y_train.size)*100) + '%')\n",
        "print ('Test Accuracy: %d' % float((np.dot(Y_val,predictions_test_momentum_l2regularization.T) + np.dot(1-Y_val,1-predictions_test_momentum_l2regularization.T))/float(Y_val.size)*100) + '%')\n"
      ]
    },
    {
      "cell_type": "code",
      "execution_count": null,
      "metadata": {
        "colab": {
          "background_save": true
        },
        "id": "G-Q9EiFEJMwc",
        "outputId": "ffe35f27-78c2-499d-ea43-3654afa3fe64"
      },
      "outputs": [
        {
          "data": {
            "image/png": "[encoded data removed]",
            "text/plain": [
              "<Figure size 540x252 with 1 Axes>"
            ]
          },
          "metadata": {},
          "output_type": "display_data"
        }
      ],
      "source": [
        "costs = np.squeeze(cost_with_momentum1_l2regularization)\n",
        "plt.plot(costs)\n",
        "plt.ylabel('training cost')\n",
        "plt.xlabel('iterations')\n",
        "plt.title(\"training loss vs iterations\")\n",
        "plt.show()"
      ]
    },
    {
      "cell_type": "code",
      "execution_count": null,
      "metadata": {
        "colab": {
          "background_save": true
        },
        "id": "dvHrkrxGJNqX",
        "outputId": "17c71dea-a362-4e72-967a-c1b435a701ce"
      },
      "outputs": [
        {
          "data": {
            "image/png": "[encoded data removed]",
            "text/plain": [
              "<Figure size 540x252 with 1 Axes>"
            ]
          },
          "metadata": {},
          "output_type": "display_data"
        }
      ],
      "source": [
        "costs = np.squeeze(cost_with_momentum2_l2regularization)\n",
        "plt.plot(costs)\n",
        "plt.ylabel('validation cost')\n",
        "plt.xlabel('iterations ')\n",
        "plt.title(\"validation loss vs iterations\")\n",
        "plt.show()"
      ]
    },
    {
      "cell_type": "markdown",
      "metadata": {
        "id": "0cXw8HNdLAGT"
      },
      "source": [
        "confusion matrix"
      ]
    },
    {
      "cell_type": "code",
      "execution_count": null,
      "metadata": {
        "colab": {
          "background_save": true
        },
        "id": "-Wm8iTCoK_ik",
        "outputId": "3238bc15-c7da-43f8-8f19-d5a0c5260b4e"
      },
      "outputs": [
        {
          "name": "stdout",
          "output_type": "stream",
          "text": [
            "Final test Accuracy: 91%\n",
            "110 16 15 122\n"
          ]
        }
      ],
      "source": [
        "predictions_val = predict(parameters_with_momentum_l2regularization, X_test)\n",
        "print ('Final test Accuracy: %d' % float((np.dot(Y_test,predictions_val.T) + np.dot(1-Y_test,1-predictions_val.T))/float(Y_test.size)*100) + '%')\n",
        "n11=0\n",
        "n12=0\n",
        "n21=0\n",
        "n22=0\n",
        "for i in range(Y_val.shape[1]):\n",
        "  if(Y_val[0,i]==0 and predictions_test_momentum_l2regularization[0,i]==False):\n",
        "    n11+=1\n",
        "  elif(Y_val[0,i]==0 and predictions_test_momentum_l2regularization[0,i]==True):\n",
        "    n12+=1\n",
        "  elif(Y_val[0,i]==1 and predictions_test_momentum_l2regularization[0,i]==False):\n",
        "    n21+=1\n",
        "  else:\n",
        "    n22+=1\n",
        "print(n11,n12,n21,n22)"
      ]
    },
    {
      "cell_type": "markdown",
      "metadata": {
        "id": "jQCS7Gaw0WyI"
      },
      "source": [
        "Performance Estimation on validation set"
      ]
    },
    {
      "cell_type": "code",
      "execution_count": null,
      "metadata": {
        "colab": {
          "background_save": true
        },
        "id": "WavbtFmI0Ucx",
        "outputId": "0218feb9-aaa9-4386-a2aa-c79388c7a6f0"
      },
      "outputs": [
        {
          "name": "stdout",
          "output_type": "stream",
          "text": [
            "Validation Accuracy: 91%\n"
          ]
        }
      ],
      "source": [
        "predictions_val_momentum_l2regularization = predict(parameters_with_momentum_l2regularization, X_test)\n",
        "print ('Validation Accuracy: %d' % float((np.dot(Y_test,predictions_val_momentum_l2regularization.T) + np.dot(1-Y_test,1-predictions_val_momentum_l2regularization.T))/float(Y_test.size)*100) + '%')"
      ]
    },
    {
      "cell_type": "code",
      "execution_count": null,
      "metadata": {
        "colab": {
          "background_save": true
        },
        "id": "hrszlQggX1Gr"
      },
      "outputs": [],
      "source": [
        "def compute_cost_with_l1regularization(AL, Y, parameters, lambd):\n",
        "    m = Y.shape[1]\n",
        "    L=len(parameters)//2\n",
        "    cross_entropy_cost = compute_cost(AL, Y,parameters)\n",
        "    s1=0\n",
        "    for i in range(1,L+1):\n",
        "      s1+=np.sum(abs(parameters[\"W\"+str(i)]))\n",
        "    L1_regularization_cost = lambd/(2*m)*(s1)\n",
        "    cost = cross_entropy_cost + L1_regularization_cost\n",
        "    return cost"
      ]
    },
    {
      "cell_type": "code",
      "execution_count": null,
      "metadata": {
        "colab": {
          "background_save": true
        },
        "id": "GzQ5ASmoYWrY"
      },
      "outputs": [],
      "source": [
        "def backward_propagation_with_l1regularization(X, Y, AL,cache, parameters,lambd):\n",
        "      \n",
        "    m = X.shape[1]\n",
        "    L=len(parameters)//2\n",
        "    grads={}\n",
        "    dZL=AL-Y\n",
        "    for i in range(L,1,-1):\n",
        "      dWi=(1./m)*np.dot(dZL,cache[\"A\"+str(i-1)].T)+ (lambd/m)\n",
        "      dbi=(1./m)*(np.sum(dZL,axis=1,keepdims=True))\n",
        "      dAi=np.dot(parameters[\"W\"+str(i)].T,dZL)\n",
        "      grads[\"dW\"+str(i)]=dWi\n",
        "      grads[\"db\"+str(i)]=dbi\n",
        "      grads[\"dZ\"+str(i)]=dZL\n",
        "      grads[\"dA\"+str(i-1)]=dAi\n",
        "      dZL=np.multiply(dAi,np.int64(cache[\"A\"+str(i-1)]>0))\n",
        "    dW1=(1./m)*np.dot(dZL,X.T)+ (lambd/m)*parameters[\"W1\"]\n",
        "    db1 = 1./m * np.sum(dZL, axis=1, keepdims = True)\n",
        "    grads[\"dW1\"]=dW1\n",
        "    grads[\"db1\"]=db1\n",
        "    grads[\"dZ1\"]=dZL\n",
        "    return grads"
      ]
    },
    {
      "cell_type": "code",
      "execution_count": null,
      "metadata": {
        "colab": {
          "background_save": true
        },
        "id": "q-wXzgAmY1uW"
      },
      "outputs": [],
      "source": [
        "def nn_model_with_momentum_l1regularization(X, Y, X_test,Y_test,layers_dims, beta,lambd,learning_rate, num_iterations = 1000, print_cost=False):\n",
        "    n_x=X.shape[0]\n",
        "    n_y=Y.shape[0]\n",
        "    parameters = initialize_parameters_deep(layers_dims)\n",
        "    #parameters = initialize_parameters_he(layers_dims)\n",
        "    costs1=[]\n",
        "    costs2=[]\n",
        "    v = initialize_velocity(parameters)\n",
        "    for i in range(0, num_iterations):\n",
        "        AL, cache = L_model_forward(X, parameters)\n",
        "        A_test, cache_test = L_model_forward(X_test, parameters)\n",
        "        cost1 = compute_cost_with_l1regularization(AL, Y, parameters,lambd)\n",
        "        cost2=compute_cost_with_l1regularization(A_test,Y_test,parameters,lambd)\n",
        "        grads = backward_propagation_with_l1regularization(X,Y,AL,cache,parameters, lambd)\n",
        "        parameters,v = update_parameters_with_momentum(parameters, grads, v,beta,learning_rate)\n",
        "        if print_cost and i % 100 == 0:\n",
        "            print (\"Cost after iteration %i: %f\" %(i, cost1))\n",
        "        if(i%10==0):\n",
        "            costs1.append(cost1)\n",
        "            costs2.append(cost2)\n",
        "    return parameters,costs1,costs2"
      ]
    },
    {
      "cell_type": "code",
      "execution_count": null,
      "metadata": {
        "colab": {
          "background_save": true
        },
        "id": "yTmjuuMuZFhE",
        "outputId": "8f9f8e13-d76e-4a6f-8e0e-a2d05c5fdfdf"
      },
      "outputs": [
        {
          "name": "stdout",
          "output_type": "stream",
          "text": [
            "Cost after iteration 0: 1.528653\n",
            "Cost after iteration 100: 1.074041\n",
            "Cost after iteration 200: 1.074694\n",
            "Cost after iteration 300: 1.079273\n",
            "Cost after iteration 400: 1.086711\n"
          ]
        }
      ],
      "source": [
        "parameters_with_momentum_l1regularization,cost_with_momentum1_l1regularization,cost_with_momentum2_l1regularization = nn_model_with_momentum_l1regularization(X_train, Y_train, X_val,Y_val,layers,0.8,0.5,0.1,num_iterations=500, print_cost=True)"
      ]
    },
    {
      "cell_type": "code",
      "execution_count": null,
      "metadata": {
        "colab": {
          "background_save": true
        },
        "id": "6KvV1BaTZNWU",
        "outputId": "5129646f-2d64-49ea-97a6-6e79c72ed77c"
      },
      "outputs": [
        {
          "name": "stdout",
          "output_type": "stream",
          "text": [
            "Train Accuracy: 89%\n",
            "Test Accuracy: 88%\n"
          ]
        }
      ],
      "source": [
        "predictions_train_momentum_l1regularization = predict(parameters_with_momentum_l1regularization, X_train)\n",
        "predictions_test_momentum_l1regularization = predict(parameters_with_momentum_l1regularization, X_val)\n",
        "print ('Train Accuracy: %d' % float((np.dot(Y_train,predictions_train_momentum_l1regularization.T) + np.dot(1-Y_train,1-predictions_train_momentum_l1regularization.T))/float(Y_train.size)*100) + '%')\n",
        "print ('Test Accuracy: %d' % float((np.dot(Y_val,predictions_test_momentum_l1regularization.T) + np.dot(1-Y_val,1-predictions_test_momentum_l1regularization.T))/float(Y_val.size)*100) + '%')"
      ]
    },
    {
      "cell_type": "code",
      "execution_count": null,
      "metadata": {
        "colab": {
          "background_save": true
        },
        "id": "nK6QSoKYZfF-",
        "outputId": "7f1b4cae-0562-490c-d748-f575af272d74"
      },
      "outputs": [
        {
          "name": "stdout",
          "output_type": "stream",
          "text": [
            "[84.79087452471484, 88.212927756654, 85.55133079847909, 89.73384030418251, 88.212927756654, 83.26996197718631, 68.44106463878326, 68.06083650190115, 57.414448669201526, 52.09125475285171, 52.09125475285171]\n"
          ]
        },
        {
          "data": {
            "image/png": "[encoded data removed]",
            "text/plain": [
              "<Figure size 540x252 with 1 Axes>"
            ]
          },
          "metadata": {},
          "output_type": "display_data"
        }
      ],
      "source": [
        "lambda_l1=[0.01,0.09,0.13,0.89,1.5,2.7,6,10,20,50,100]\n",
        "acc_l1=[]\n",
        "for l1 in lambda_l1:\n",
        "  parameters_with_momentum_l1regularization,cost_with_momentum1_l1regularization,cost_with_momentum2_l1regularization = nn_model_with_momentum_l1regularization(X_train, Y_train, X_val,Y_val,layers,0.8,l1,0.1,num_iterations=2000, print_cost=False)\n",
        "  predictions_test_momentum_l1regularization = predict(parameters_with_momentum_l1regularization, X_val)\n",
        "  acc_l1.append(float((np.dot(Y_val,predictions_test_momentum_l1regularization.T) + np.dot(1-Y_val,1-predictions_test_momentum_l1regularization.T))/float(Y_val.size)*100))\n",
        "print(acc_l1)\n",
        "plt.plot(lambda_l1,acc_l1)\n",
        "plt.ylabel('validation accuracy')\n",
        "plt.xlabel('lambda')\n",
        "plt.title(\"validation accuracy with L1 regularization vs lambda\")\n",
        "plt.show()"
      ]
    },
    {
      "cell_type": "markdown",
      "metadata": {
        "id": "sRzDfI8D5OP7"
      },
      "source": [
        "# Accuracy with varying number of layers"
      ]
    },
    {
      "cell_type": "code",
      "execution_count": null,
      "metadata": {
        "colab": {
          "background_save": true
        },
        "id": "HxcsHuu5a9bp",
        "outputId": "089fac1d-eaeb-42c4-f2f0-3fcce4a876a0"
      },
      "outputs": [
        {
          "name": "stdout",
          "output_type": "stream",
          "text": [
            "Train Accuracy for 3 layer: 89%\n",
            "Validation Accuracy for 3 layer: 90%\n",
            "Train Accuracy for 4 layer: 89%\n",
            "Validtaion Accuracy for 4 layer: 87%\n",
            "Train Accuracy for 5 layer: 88%\n",
            "Validation Accuracy for 5 layer: 85%\n",
            "Train Accuracy for 6 layer: 87%\n",
            "Validation Accuracy for 6 layer: 87%\n",
            "Train Accuracy for 7 layer: 88%\n",
            "Validation Accuracy for 7 layer: 90%\n",
            "Train Accuracy for 8 layer: 87%\n",
            "Validation Accuracy for 8 layer: 87%\n",
            "Train Accuracy for  layer: 69%\n",
            "Validation Accuracy for 9 layer: 66%\n",
            "Train Accuracy for 8 layer: 88%\n",
            "Validation Accuracy for 8 layer: 87%\n"
          ]
        },
        {
          "data": {
            "image/png": "[encoded data removed]",
            "text/plain": [
              "<Figure size 540x252 with 1 Axes>"
            ]
          },
          "metadata": {},
          "output_type": "display_data"
        }
      ],
      "source": [
        "num_l=[1,2,3,4,5,6,7,8]\n",
        "acc_l=[]\n",
        "parameters_with_momentum_l2regularization,cost_with_momentum1_l2regularization,cost_with_momentum2_l2regularization = nn_model_with_momentum_l2regularization(X_train, Y_train, X_val,Y_val,[10,128,1],0.8,3,0.1,num_iterations=2000, print_cost=False)\n",
        "predictions_train_momentum_l2regularization = predict(parameters_with_momentum_l2regularization, X_train)\n",
        "predictions_test_momentum_l2regularization = predict(parameters_with_momentum_l2regularization, X_val)\n",
        "ac1=float((np.dot(Y_val,predictions_test_momentum_l2regularization.T) + np.dot(1-Y_val,1-predictions_test_momentum_l2regularization.T))/float(Y_val.size)*100)\n",
        "print ('Train Accuracy for 3 layer: %d' % float((np.dot(Y_train,predictions_train_momentum_l2regularization.T) + np.dot(1-Y_train,1-predictions_train_momentum_l2regularization.T))/float(Y_train.size)*100) + '%')\n",
        "print ('Validation Accuracy for 3 layer: %d' % ac1 + '%')\n",
        "acc_l.append(ac1)\n",
        "parameters_with_momentum_l2regularization,cost_with_momentum1_l2regularization,cost_with_momentum2_l2regularization = nn_model_with_momentum_l2regularization(X_train, Y_train, X_val,Y_val,[10,128,128,1],0.8,3,0.1,num_iterations=2000, print_cost=False)\n",
        "predictions_train_momentum_l2regularization = predict(parameters_with_momentum_l2regularization, X_train)\n",
        "predictions_test_momentum_l2regularization = predict(parameters_with_momentum_l2regularization, X_val)\n",
        "ac2=float((np.dot(Y_val,predictions_test_momentum_l2regularization.T) + np.dot(1-Y_val,1-predictions_test_momentum_l2regularization.T))/float(Y_val.size)*100)\n",
        "print ('Train Accuracy for 4 layer: %d' % float((np.dot(Y_train,predictions_train_momentum_l2regularization.T) + np.dot(1-Y_train,1-predictions_train_momentum_l2regularization.T))/float(Y_train.size)*100) + '%')\n",
        "print ('Validtaion Accuracy for 4 layer: %d' % ac2 + '%')\n",
        "acc_l.append(ac2)\n",
        "parameters_with_momentum_l2regularization,cost_with_momentum1_l2regularization,cost_with_momentum2_l2regularization = nn_model_with_momentum_l2regularization(X_train, Y_train, X_val,Y_val,[10,128,64,128,1],0.8,3,0.1,num_iterations=2000, print_cost=False)\n",
        "predictions_train_momentum_l2regularization = predict(parameters_with_momentum_l2regularization, X_train)\n",
        "predictions_test_momentum_l2regularization = predict(parameters_with_momentum_l2regularization, X_val)\n",
        "ac3=float((np.dot(Y_val,predictions_test_momentum_l2regularization.T) + np.dot(1-Y_val,1-predictions_test_momentum_l2regularization.T))/float(Y_val.size)*100)\n",
        "print ('Train Accuracy for 5 layer: %d' % float((np.dot(Y_train,predictions_train_momentum_l2regularization.T) + np.dot(1-Y_train,1-predictions_train_momentum_l2regularization.T))/float(Y_train.size)*100) + '%')\n",
        "print ('Validation Accuracy for 5 layer: %d' % ac3 + '%')\n",
        "acc_l.append(ac3)\n",
        "parameters_with_momentum_l2regularization,cost_with_momentum1_l2regularization,cost_with_momentum2_l2regularization = nn_model_with_momentum_l2regularization(X_train, Y_train, X_val,Y_val,[10,32,128,32,16,1],0.8,3,0.1,num_iterations=2000, print_cost=False)\n",
        "predictions_train_momentum_l2regularization = predict(parameters_with_momentum_l2regularization, X_train)\n",
        "predictions_test_momentum_l2regularization = predict(parameters_with_momentum_l2regularization, X_val)\n",
        "ac4=float((np.dot(Y_val,predictions_test_momentum_l2regularization.T) + np.dot(1-Y_val,1-predictions_test_momentum_l2regularization.T))/float(Y_val.size)*100)\n",
        "print ('Train Accuracy for 6 layer: %d' % float((np.dot(Y_train,predictions_train_momentum_l2regularization.T) + np.dot(1-Y_train,1-predictions_train_momentum_l2regularization.T))/float(Y_train.size)*100) + '%')\n",
        "print ('Validation Accuracy for 6 layer: %d' % ac4 + '%')\n",
        "acc_l.append(ac4)\n",
        "parameters_with_momentum_l2regularization,cost_with_momentum1_l2regularization,cost_with_momentum2_l2regularization = nn_model_with_momentum_l2regularization(X_train, Y_train, X_val,Y_val,[10,32,128,32,16,4,1],0.8,3,0.1,num_iterations=2000, print_cost=False)\n",
        "predictions_train_momentum_l2regularization = predict(parameters_with_momentum_l2regularization, X_train)\n",
        "predictions_test_momentum_l2regularization = predict(parameters_with_momentum_l2regularization, X_val)\n",
        "ac5=float((np.dot(Y_val,predictions_test_momentum_l2regularization.T) + np.dot(1-Y_val,1-predictions_test_momentum_l2regularization.T))/float(Y_val.size)*100)\n",
        "print ('Train Accuracy for 7 layer: %d' % float((np.dot(Y_train,predictions_train_momentum_l2regularization.T) + np.dot(1-Y_train,1-predictions_train_momentum_l2regularization.T))/float(Y_train.size)*100) + '%')\n",
        "print ('Validation Accuracy for 7 layer: %d' % ac5 + '%')\n",
        "acc_l.append(ac5)\n",
        "parameters_with_momentum_l2regularization,cost_with_momentum1_l2regularization,cost_with_momentum2_l2regularization = nn_model_with_momentum_l2regularization(X_train, Y_train, X_val,Y_val,[10,32,64,128,256,1],0.8,3,0.1,num_iterations=2000, print_cost=False)\n",
        "predictions_train_momentum_l2regularization = predict(parameters_with_momentum_l2regularization, X_train)\n",
        "predictions_test_momentum_l2regularization = predict(parameters_with_momentum_l2regularization, X_val)\n",
        "ac6=float((np.dot(Y_val,predictions_test_momentum_l2regularization.T) + np.dot(1-Y_val,1-predictions_test_momentum_l2regularization.T))/float(Y_val.size)*100)\n",
        "print ('Train Accuracy for 8 layer: %d' % float((np.dot(Y_train,predictions_train_momentum_l2regularization.T) + np.dot(1-Y_train,1-predictions_train_momentum_l2regularization.T))/float(Y_train.size)*100) + '%')\n",
        "print ('Validation Accuracy for 8 layer: %d' % ac6 + '%')\n",
        "acc_l.append(ac6)\n",
        "parameters_with_momentum_l2regularization,cost_with_momentum1_l2regularization,cost_with_momentum2_l2regularization = nn_model_with_momentum_l2regularization(X_train, Y_train, X_val,Y_val,[10,256,128,64,32,16,8,4,1],0.8,3,0.1,num_iterations=2000, print_cost=False)\n",
        "predictions_train_momentum_l2regularization = predict(parameters_with_momentum_l2regularization, X_train)\n",
        "predictions_test_momentum_l2regularization = predict(parameters_with_momentum_l2regularization, X_val)\n",
        "ac7=float((np.dot(Y_val,predictions_test_momentum_l2regularization.T) + np.dot(1-Y_val,1-predictions_test_momentum_l2regularization.T))/float(Y_val.size)*100)\n",
        "print ('Train Accuracy for  layer: %d' % float((np.dot(Y_train,predictions_train_momentum_l2regularization.T) + np.dot(1-Y_train,1-predictions_train_momentum_l2regularization.T))/float(Y_train.size)*100) + '%')\n",
        "print ('Validation Accuracy for 9 layer: %d' % ac7 + '%')\n",
        "acc_l.append(ac7)\n",
        "parameters_with_momentum_l2regularization,cost_with_momentum1_l2regularization,cost_with_momentum2_l2regularization = nn_model_with_momentum_l2regularization(X_train, Y_train, X_val,Y_val,[10,128,128,32,32,32,16,16,4,1],0.8,3,0.1,num_iterations=2000, print_cost=False)\n",
        "predictions_train_momentum_l2regularization = predict(parameters_with_momentum_l2regularization, X_train)\n",
        "predictions_test_momentum_l2regularization = predict(parameters_with_momentum_l2regularization, X_val)\n",
        "ac8=float((np.dot(Y_val,predictions_test_momentum_l2regularization.T) + np.dot(1-Y_val,1-predictions_test_momentum_l2regularization.T))/float(Y_val.size)*100)\n",
        "print ('Train Accuracy for 8 layer: %d' % float((np.dot(Y_train,predictions_train_momentum_l2regularization.T) + np.dot(1-Y_train,1-predictions_train_momentum_l2regularization.T))/float(Y_train.size)*100) + '%')\n",
        "print ('Validation Accuracy for 8 layer: %d' % ac8 + '%')\n",
        "acc_l.append(ac8)\n",
        "plt.plot(num_l,acc_l)\n",
        "plt.ylabel('validation accuracy')\n",
        "plt.xlabel('number of layers')\n",
        "plt.title(\"validation accuracy vs number of hidden layers\")\n",
        "plt.show()"
      ]
    },
    {
      "cell_type": "markdown",
      "source": [
        "Varying final layer size"
      ],
      "metadata": {
        "id": "3NSr2l2Z_tDO"
      }
    },
    {
      "cell_type": "code",
      "source": [
        "num_neuron=[2,32,64,128,256,512]\n",
        "p1=[]\n",
        "for n in num_neuron:\n",
        "  parameters_with_momentum_l2regularization,cost_with_momentum1_l2regularization,cost_with_momentum2_l2regularization = nn_model_with_momentum_l2regularization(X_train, Y_train, X_val,Y_val,[10,32,64,128,n,1],0.8,3,0.1,num_iterations=2000, print_cost=False)\n",
        "  predictions_test_momentum_l2regularization = predict(parameters_with_momentum_l2regularization, X_val)\n",
        "  ac1=float((np.dot(Y_val,predictions_test_momentum_l2regularization.T) + np.dot(1-Y_val,1-predictions_test_momentum_l2regularization.T))/float(Y_val.size)*100)\n",
        "  #print ('Validation Accuracy for %n nodes in final layer: %d' % ac1 + '%')\n",
        "  print(\"Validation accuracy for \" +str (n)+ \" nodes in final layer is \" + str(ac1))\n",
        "  p1.append(ac1)\n"
      ],
      "metadata": {
        "colab": {
          "base_uri": "https://localhost:8080/"
        },
        "id": "Mj7JHvGV_wRz",
        "outputId": "8c71672d-3ff5-4712-985c-e8059e63c093"
      },
      "execution_count": 25,
      "outputs": [
        {
          "output_type": "stream",
          "name": "stdout",
          "text": [
            "Validation accuracy for 2 nodes in final layer is 89.35361216730038\n",
            "Validation accuracy for 32 nodes in final layer is 90.49429657794677\n",
            "Validation accuracy for 64 nodes in final layer is 86.31178707224335\n",
            "Validation accuracy for 128 nodes in final layer is 82.12927756653993\n",
            "Validation accuracy for 256 nodes in final layer is 88.212927756654\n",
            "Validation accuracy for 512 nodes in final layer is 89.73384030418251\n"
          ]
        }
      ]
    },
    {
      "cell_type": "code",
      "source": [
        "plt.plot(num_neuron,p1)\n",
        "plt.ylabel('validation accuracy')\n",
        "plt.xlabel('nodes in final layer')\n",
        "plt.title(\"validation accuracy vs hidden layer size\")\n",
        "plt.show()"
      ],
      "metadata": {
        "colab": {
          "base_uri": "https://localhost:8080/",
          "height": 295
        },
        "id": "jQnBSF3YAlzK",
        "outputId": "956a377d-23c6-48d5-f752-2db38e950336"
      },
      "execution_count": 29,
      "outputs": [
        {
          "output_type": "display_data",
          "data": {
            "text/plain": [
              "<Figure size 432x288 with 1 Axes>"
            ],
            "image/png": "[encoded data removed]"
          },
          "metadata": {
            "needs_background": "light"
          }
        }
      ]
    },
    {
      "cell_type": "code",
      "execution_count": null,
      "metadata": {
        "colab": {
          "background_save": true
        },
        "id": "pq9P1vmsBBXs"
      },
      "outputs": [],
      "source": [
        "def sigmoid(Z):\n",
        "    \n",
        "    A = 1/(1+np.exp(-Z))\n",
        "    cache = Z\n",
        "    \n",
        "    return A, cache\n",
        "\n",
        "def relu(Z):\n",
        "    \n",
        "    A = np.maximum(0,Z)\n",
        "    cache = Z \n",
        "    return A, cache\n",
        "\n",
        "\n",
        "def relu_backward(dA, cache):\n",
        "\n",
        "    \n",
        "    Z = cache\n",
        "    dZ = np.array(dA, copy=True) \n",
        "    dZ[Z <= 0] = 0\n",
        "    \n",
        "    return dZ\n",
        "\n",
        "def sigmoid_backward(dA, cache):\n",
        "    \n",
        "    Z = cache\n",
        "    \n",
        "    s = 1/(1+np.exp(-Z))\n",
        "    dZ = dA * s * (1-s)\n",
        "    return dZ\n",
        "\n",
        "\n",
        "\n",
        "def initialize_parameters_deep(layer_dims):\n",
        "    \n",
        "    parameters = {}\n",
        "    L = len(layer_dims)            # number of layers in the network\n",
        "\n",
        "    for l in range(1, L):\n",
        "        parameters['W' + str(l)] = np.random.randn(layer_dims[l], layer_dims[l-1]) / np.sqrt(layer_dims[l-1]) #*0.01\n",
        "        parameters['b' + str(l)] = np.zeros((layer_dims[l], 1))\n",
        "  \n",
        "    return parameters\n",
        "\n",
        "def linear_forward(A, W, b):\n",
        "\n",
        "    Z = W.dot(A) + b\n",
        "    cache = (A, W, b)\n",
        "    \n",
        "    return Z, cache\n",
        "\n",
        "def linear_activation_forward(A_prev, W, b, activation):\n",
        "\n",
        "    \n",
        "    if activation == \"sigmoid\":\n",
        "        # Inputs: \"A_prev, W, b\". Outputs: \"A, activation_cache\".\n",
        "        Z, linear_cache = linear_forward(A_prev, W, b)\n",
        "        A, activation_cache = sigmoid(Z)\n",
        "    \n",
        "    elif activation == \"relu\":\n",
        "        # Inputs: \"A_prev, W, b\". Outputs: \"A, activation_cache\".\n",
        "        Z, linear_cache = linear_forward(A_prev, W, b)\n",
        "        A, activation_cache = relu(Z)\n",
        "    cache = (linear_cache, activation_cache)\n",
        "\n",
        "    return A, cache\n",
        "\n",
        "def L_model_forward(X, parameters):\n",
        "\n",
        "\n",
        "    caches = []\n",
        "    A = X\n",
        "    L = len(parameters) // 2 \n",
        "    for l in range(1, L):\n",
        "        A_prev = A \n",
        "        A, cache = linear_activation_forward(A_prev, parameters['W' + str(l)], parameters['b' + str(l)], activation = \"relu\")\n",
        "        caches.append(cache)\n",
        "\n",
        "    AL, cache = linear_activation_forward(A, parameters['W' + str(L)], parameters['b' + str(L)], activation = \"sigmoid\")\n",
        "    caches.append(cache)        \n",
        "    return AL, caches\n",
        "\n",
        "def compute_cost(AL, Y):\n",
        "\n",
        "    \n",
        "    m = Y.shape[1]\n",
        "    cost = (1./m) * (-np.dot(Y,np.log(AL).T) - np.dot(1-Y, np.log(1-AL).T))\n",
        "    \n",
        "    cost = np.squeeze(cost)     \n",
        "    return cost\n",
        "\n",
        "def linear_backward(dZ, cache):\n",
        "\n",
        "    A_prev, W, b = cache\n",
        "    m = A_prev.shape[1]\n",
        "\n",
        "    dW = 1./m * np.dot(dZ,A_prev.T)\n",
        "    db = 1./m * np.sum(dZ, axis = 1, keepdims = True)\n",
        "    dA_prev = np.dot(W.T,dZ)\n",
        "    \n",
        "    return dA_prev, dW, db\n",
        "\n",
        "def linear_activation_backward(dA, cache, activation):\n",
        "\n",
        "    linear_cache, activation_cache = cache\n",
        "    \n",
        "    if activation == \"relu\":\n",
        "        dZ = relu_backward(dA, activation_cache)\n",
        "        dA_prev, dW, db = linear_backward(dZ, linear_cache)\n",
        "        \n",
        "    elif activation == \"sigmoid\":\n",
        "        dZ = sigmoid_backward(dA, activation_cache)\n",
        "        dA_prev, dW, db = linear_backward(dZ, linear_cache)\n",
        "    \n",
        "    return dA_prev, dW, db\n",
        "\n",
        "def L_model_backward(AL, Y, caches):\n",
        "\n",
        "    grads = {}\n",
        "    L = len(caches)\n",
        "    m = AL.shape[1]\n",
        "    Y = Y.reshape(AL.shape) \n",
        "\n",
        "    dAL = - (np.divide(Y, AL) - np.divide(1 - Y, 1 - AL))\n",
        "\n",
        "    current_cache = caches[L-1]\n",
        "    grads[\"dA\" + str(L-1)], grads[\"dW\" + str(L)], grads[\"db\" + str(L)] = linear_activation_backward(dAL, current_cache, activation = \"sigmoid\")\n",
        "    \n",
        "    for l in reversed(range(L-1)):\n",
        "        current_cache = caches[l]\n",
        "        dA_prev_temp, dW_temp, db_temp = linear_activation_backward(grads[\"dA\" + str(l + 1)], current_cache, activation = \"relu\")\n",
        "        grads[\"dA\" + str(l)] = dA_prev_temp\n",
        "        grads[\"dW\" + str(l + 1)] = dW_temp\n",
        "        grads[\"db\" + str(l + 1)] = db_temp\n",
        "\n",
        "    return grads\n",
        "\n",
        "def update_parameters(parameters, grads, learning_rate):\n",
        "    \n",
        "    L = len(parameters) // 2 \n",
        "    for l in range(L):\n",
        "        parameters[\"W\" + str(l+1)] = parameters[\"W\" + str(l+1)] - learning_rate * grads[\"dW\" + str(l+1)]\n",
        "        parameters[\"b\" + str(l+1)] = parameters[\"b\" + str(l+1)] - learning_rate * grads[\"db\" + str(l+1)]\n",
        "        \n",
        "    return parameters\n",
        "\n",
        "def predicts(X, y, parameters):\n",
        "\n",
        "    \n",
        "    m = X.shape[1]\n",
        "    n = len(parameters) // 2 \n",
        "    p = np.zeros((1,m))\n",
        "\n",
        "    probas, caches = L_model_forward(X, parameters)\n",
        "\n",
        "    for i in range(0, probas.shape[1]):\n",
        "        if probas[0,i] > 0.5:\n",
        "            p[0,i] = 1\n",
        "        else:\n",
        "            p[0,i] = 0\n",
        "\n",
        "    print(\"Accuracy: \"  + str(np.sum((p == y)/m)))\n",
        "        \n",
        "    return p\n",
        "\n"
      ]
    },
    {
      "cell_type": "code",
      "execution_count": null,
      "metadata": {
        "colab": {
          "background_save": true
        },
        "id": "AWQylBVFGwoz"
      },
      "outputs": [],
      "source": [
        "def L_layer_model(X, Y, layers_dims, learning_rate, num_iterations = 3000, print_cost=False):#lr was 0.009\n",
        "\n",
        "\n",
        "    np.random.seed(1)\n",
        "    costs = []                 \n",
        "\n",
        "    parameters = initialize_parameters_deep(layers_dims)\n",
        "\n",
        "    for i in range(0, num_iterations):\n",
        "        AL, caches = L_model_forward(X, parameters)\n",
        "        cost = compute_cost(AL, Y)\n",
        "\n",
        "        grads = L_model_backward(AL, Y, caches)\n",
        "\n",
        "        parameters = update_parameters(parameters, grads, learning_rate)\n",
        "\n",
        "        if print_cost and i % 100 == 0:\n",
        "            print (\"Cost after iteration %i: %f\" %(i, cost))\n",
        "        if print_cost and i % 100 == 0:\n",
        "            costs.append(cost)\n",
        "            \n",
        "\n",
        "    plt.plot(np.squeeze(costs))\n",
        "    plt.ylabel('cost')\n",
        "    plt.xlabel('iterations (per hundreds)')\n",
        "    plt.title(\"Learning rate =\" + str(learning_rate))\n",
        "    plt.show()\n",
        "    \n",
        "    return parameters"
      ]
    },
    {
      "cell_type": "code",
      "execution_count": null,
      "metadata": {
        "id": "pzQL5K2TG8Yi"
      },
      "outputs": [],
      "source": [
        "parameters = L_layer_model(X_train, Y_train, [X_train.shape[0],32,64,128,256,Y_train.shape[0]], 0.01,num_iterations = 2000, print_cost = True)"
      ]
    },
    {
      "cell_type": "code",
      "execution_count": null,
      "metadata": {
        "colab": {
          "background_save": true
        },
        "id": "mDbq4mBsHWCX",
        "outputId": "6a4996e4-9586-477d-d3e8-4c6900158591"
      },
      "outputs": [
        {
          "name": "stdout",
          "output_type": "stream",
          "text": [
            "Accuracy: 0.917221693625119\n",
            "Accuracy: 0.8821292775665399\n",
            "Train Accuracy: 91%\n",
            "Validation Accuracy: 88%\n"
          ]
        }
      ],
      "source": [
        "predictions_train = predicts(X_train,Y_train,parameters )\n",
        "predictions_test = predicts(X_val,Y_val,parameters)\n",
        "print ('Train Accuracy: %d' % float((np.dot(Y_train,predictions_train.T) + np.dot(1-Y_train,1-predictions_train.T))/float(Y_train.size)*100) + '%')\n",
        "print ('Validation Accuracy: %d' % float((np.dot(Y_val,predictions_test.T) + np.dot(1-Y_val,1-predictions_test.T))/float(Y_val.size)*100) + '%')"
      ]
    },
    {
      "cell_type": "markdown",
      "metadata": {
        "id": "5dMR1vh61aIP"
      },
      "source": [
        "Test accuracy on relu activation"
      ]
    },
    {
      "cell_type": "code",
      "execution_count": null,
      "metadata": {
        "id": "80KBTnvRH10t"
      },
      "outputs": [],
      "source": [
        "predictions_val = predicts(X_test,Y_test,parameters )\n",
        "print ('Test Accuracy: %d' % float((np.dot(Y_test,predictions_val.T) + np.dot(1-Y_test,1-predictions_val.T))/float(Y_test.size)*100) + '%')"
      ]
    }
  ],
  "metadata": {
    "colab": {
      "collapsed_sections": [],
      "provenance": []
    },
    "kernelspec": {
      "display_name": "Python 3",
      "name": "python3"
    },
    "language_info": {
      "name": "python"
    }
  },
  "nbformat": 4,
  "nbformat_minor": 0
}